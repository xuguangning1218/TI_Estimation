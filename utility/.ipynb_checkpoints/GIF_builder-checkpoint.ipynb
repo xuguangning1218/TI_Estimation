{
 "cells": [
  {
   "cell_type": "code",
   "execution_count": 1,
   "id": "ddebb68d",
   "metadata": {
    "ExecuteTime": {
     "end_time": "2022-10-13T02:54:27.520563Z",
     "start_time": "2022-10-13T02:54:27.442964Z"
    }
   },
   "outputs": [],
   "source": [
    "from myutility import build_gif"
   ]
  },
  {
   "cell_type": "code",
   "execution_count": 2,
   "id": "c40e08a2",
   "metadata": {
    "ExecuteTime": {
     "end_time": "2022-10-13T02:54:27.833299Z",
     "start_time": "2022-10-13T02:54:27.522719Z"
    }
   },
   "outputs": [],
   "source": [
    "build_gif(cache_path='../GridSAT-RACNN-combine-avgpool-large-graph-multihead-gat-real-5-regression_jpg/')"
   ]
  },
  {
   "cell_type": "code",
   "execution_count": null,
   "id": "408970af",
   "metadata": {},
   "outputs": [],
   "source": []
  }
 ],
 "metadata": {
  "kernelspec": {
   "display_name": "Python 3 (ipykernel)",
   "language": "python",
   "name": "python3"
  },
  "language_info": {
   "codemirror_mode": {
    "name": "ipython",
    "version": 3
   },
   "file_extension": ".py",
   "mimetype": "text/x-python",
   "name": "python",
   "nbconvert_exporter": "python",
   "pygments_lexer": "ipython3",
   "version": "3.9.7"
  }
 },
 "nbformat": 4,
 "nbformat_minor": 5
}
