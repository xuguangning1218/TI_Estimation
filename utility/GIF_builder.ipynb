{
 "cells": [
  {
   "cell_type": "code",
   "execution_count": 1,
   "id": "6d7246cc",
   "metadata": {
    "ExecuteTime": {
     "end_time": "2022-10-13T02:55:42.359368Z",
     "start_time": "2022-10-13T02:55:42.262013Z"
    }
   },
   "outputs": [],
   "source": [
    "from myutility import build_gif"
   ]
  },
  {
   "cell_type": "code",
   "execution_count": 2,
   "id": "8b643173",
   "metadata": {
    "ExecuteTime": {
     "end_time": "2022-10-13T02:55:42.650009Z",
     "start_time": "2022-10-13T02:55:42.361768Z"
    }
   },
   "outputs": [],
   "source": [
    "build_gif()"
   ]
  },
  {
   "cell_type": "code",
   "execution_count": null,
   "id": "03b0a7ba",
   "metadata": {},
   "outputs": [],
   "source": []
  }
 ],
 "metadata": {
  "kernelspec": {
   "display_name": "Python 3 (ipykernel)",
   "language": "python",
   "name": "python3"
  },
  "language_info": {
   "codemirror_mode": {
    "name": "ipython",
    "version": 3
   },
   "file_extension": ".py",
   "mimetype": "text/x-python",
   "name": "python",
   "nbconvert_exporter": "python",
   "pygments_lexer": "ipython3",
   "version": "3.9.7"
  }
 },
 "nbformat": 4,
 "nbformat_minor": 5
}
