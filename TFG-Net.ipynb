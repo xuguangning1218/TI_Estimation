{
 "cells": [
  {
   "cell_type": "code",
   "execution_count": 1,
   "metadata": {
    "ExecuteTime": {
     "end_time": "2022-10-13T13:19:46.151461Z",
     "start_time": "2022-10-13T13:19:44.981625Z"
    },
    "execution": {
     "iopub.execute_input": "2022-04-14T10:25:50.133367Z",
     "iopub.status.busy": "2022-04-14T10:25:50.132830Z",
     "iopub.status.idle": "2022-04-14T10:25:51.812855Z",
     "shell.execute_reply": "2022-04-14T10:25:51.812137Z"
    }
   },
   "outputs": [],
   "source": [
    "# package to split train and validate set\n",
    "from sklearn.model_selection import train_test_split\n",
    "\n",
    "# pytorch package\n",
    "import torch\n",
    "from torch import nn,optim\n",
    "from torch.utils.data import DataLoader,Dataset\n",
    "import torchvision.models as models\n",
    "from tqdm import tqdm\n",
    "from utility.myutility import random_sample, tensor_to_img, save_img\n",
    "from layers.GraphConvolution import GraphConvolution\n",
    "from layers.MultiHeadGAT import MultiHeadGAT\n",
    "from layers.AttentionCrop import AttentionCropLayer\n",
    "\n",
    "import os\n",
    "import numpy as np\n",
    "import pandas as pd\n",
    "import logging\n",
    "import datetime"
   ]
  },
  {
   "cell_type": "markdown",
   "metadata": {},
   "source": [
    "# Setting"
   ]
  },
  {
   "cell_type": "code",
   "execution_count": 2,
   "metadata": {
    "ExecuteTime": {
     "end_time": "2022-10-13T13:15:33.265802Z",
     "start_time": "2022-10-13T13:15:33.258955Z"
    },
    "execution": {
     "iopub.execute_input": "2022-04-14T10:25:51.817163Z",
     "iopub.status.busy": "2022-04-14T10:25:51.816945Z",
     "iopub.status.idle": "2022-04-14T10:25:51.820290Z",
     "shell.execute_reply": "2022-04-14T10:25:51.819854Z"
    }
   },
   "outputs": [],
   "source": [
    "batch_size = 256\n",
    "epochs = 200\n",
    "patient = 200\n",
    "learning_rate = 0.001\n",
    "test_batch = 512\n",
    "in_channel = 1\n",
    "chunk_interval = 1\n",
    "model_name = 'model_saver'\n",
    "train_save_name = 'TFG-Net_training_stage'\n",
    "root_path = '/home/ices/work/TI_Estimation/'\n",
    "train_range = (2010, 2017)\n",
    "test_range = (2018, 2020)"
   ]
  },
  {
   "cell_type": "code",
   "execution_count": 3,
   "metadata": {
    "ExecuteTime": {
     "end_time": "2022-10-13T13:15:33.983051Z",
     "start_time": "2022-10-13T13:15:33.978011Z"
    },
    "execution": {
     "iopub.execute_input": "2022-04-14T10:25:51.823833Z",
     "iopub.status.busy": "2022-04-14T10:25:51.823677Z",
     "iopub.status.idle": "2022-04-14T10:25:51.826928Z",
     "shell.execute_reply": "2022-04-14T10:25:51.826482Z"
    }
   },
   "outputs": [],
   "source": [
    "model_dir = './'+model_name + '/'\n",
    "# if os.path.exists(model_dir) == False:\n",
    "#     os.makedirs(model_dir)\n",
    "# else:\n",
    "#     os._exit(-1)\n",
    "# logging.basicConfig(filename=model_dir + 'TFG-Net.log', encoding='utf-8', level=logging.INFO)"
   ]
  },
  {
   "cell_type": "code",
   "execution_count": 4,
   "metadata": {
    "ExecuteTime": {
     "end_time": "2022-10-13T13:15:34.677805Z",
     "start_time": "2022-10-13T13:15:34.570377Z"
    },
    "execution": {
     "iopub.execute_input": "2022-04-14T10:25:51.830208Z",
     "iopub.status.busy": "2022-04-14T10:25:51.829983Z",
     "iopub.status.idle": "2022-04-14T10:25:51.922796Z",
     "shell.execute_reply": "2022-04-14T10:25:51.922036Z"
    }
   },
   "outputs": [],
   "source": [
    "data_info = pd.read_csv(root_path + '/data/gridsat.path.ibtr.windspeed.csv')"
   ]
  },
  {
   "cell_type": "code",
   "execution_count": 5,
   "metadata": {
    "ExecuteTime": {
     "end_time": "2022-10-13T13:15:35.200378Z",
     "start_time": "2022-10-13T13:15:35.178940Z"
    },
    "execution": {
     "iopub.execute_input": "2022-04-14T10:25:51.926855Z",
     "iopub.status.busy": "2022-04-14T10:25:51.926631Z",
     "iopub.status.idle": "2022-04-14T10:25:51.935664Z",
     "shell.execute_reply": "2022-04-14T10:25:51.935151Z"
    }
   },
   "outputs": [],
   "source": [
    "train_info = data_info[(data_info[\"YEAR\"]>=train_range[0]) & (data_info[\"YEAR\"]<=train_range[1])].copy()"
   ]
  },
  {
   "cell_type": "code",
   "execution_count": 6,
   "metadata": {
    "ExecuteTime": {
     "end_time": "2022-10-13T13:15:35.672480Z",
     "start_time": "2022-10-13T13:15:35.666284Z"
    },
    "execution": {
     "iopub.execute_input": "2022-04-14T10:25:51.939336Z",
     "iopub.status.busy": "2022-04-14T10:25:51.939145Z",
     "iopub.status.idle": "2022-04-14T10:25:51.942404Z",
     "shell.execute_reply": "2022-04-14T10:25:51.941931Z"
    }
   },
   "outputs": [],
   "source": [
    "X = train_info[\"PATH\"].to_numpy()\n",
    "Y = train_info[\"WIND_SPEED\"].to_numpy()\n",
    "Y = np.expand_dims(Y, axis=1)"
   ]
  },
  {
   "cell_type": "code",
   "execution_count": 7,
   "metadata": {
    "ExecuteTime": {
     "end_time": "2022-10-13T13:15:36.648928Z",
     "start_time": "2022-10-13T13:15:36.642974Z"
    },
    "execution": {
     "iopub.execute_input": "2022-04-14T10:25:51.945869Z",
     "iopub.status.busy": "2022-04-14T10:25:51.945703Z",
     "iopub.status.idle": "2022-04-14T10:25:51.948762Z",
     "shell.execute_reply": "2022-04-14T10:25:51.948312Z"
    }
   },
   "outputs": [],
   "source": [
    "min_max_img = np.load(root_path + '/data/gridsat.img.min.max.npy')"
   ]
  },
  {
   "cell_type": "code",
   "execution_count": 8,
   "metadata": {
    "ExecuteTime": {
     "end_time": "2022-10-13T13:15:37.142921Z",
     "start_time": "2022-10-13T13:15:37.138124Z"
    },
    "execution": {
     "iopub.execute_input": "2022-04-14T10:25:51.952472Z",
     "iopub.status.busy": "2022-04-14T10:25:51.952236Z",
     "iopub.status.idle": "2022-04-14T10:25:51.955217Z",
     "shell.execute_reply": "2022-04-14T10:25:51.954716Z"
    }
   },
   "outputs": [],
   "source": [
    "min_img = min_max_img[0]\n",
    "max_img = min_max_img[1]"
   ]
  },
  {
   "cell_type": "code",
   "execution_count": 9,
   "metadata": {
    "ExecuteTime": {
     "end_time": "2022-10-13T13:15:37.853354Z",
     "start_time": "2022-10-13T13:15:37.843432Z"
    },
    "execution": {
     "iopub.execute_input": "2022-04-14T10:25:51.958650Z",
     "iopub.status.busy": "2022-04-14T10:25:51.958441Z",
     "iopub.status.idle": "2022-04-14T10:25:51.965037Z",
     "shell.execute_reply": "2022-04-14T10:25:51.964303Z"
    }
   },
   "outputs": [
    {
     "data": {
      "text/plain": [
       "(10.0, 348.30999755859375)"
      ]
     },
     "execution_count": 9,
     "metadata": {},
     "output_type": "execute_result"
    }
   ],
   "source": [
    "min_img, max_img"
   ]
  },
  {
   "cell_type": "code",
   "execution_count": 10,
   "metadata": {
    "ExecuteTime": {
     "end_time": "2022-10-13T13:15:38.169792Z",
     "start_time": "2022-10-13T13:15:38.162830Z"
    },
    "execution": {
     "iopub.execute_input": "2022-04-14T10:25:51.970234Z",
     "iopub.status.busy": "2022-04-14T10:25:51.969780Z",
     "iopub.status.idle": "2022-04-14T10:25:51.975582Z",
     "shell.execute_reply": "2022-04-14T10:25:51.974748Z"
    }
   },
   "outputs": [
    {
     "data": {
      "text/plain": [
       "((39110,), (39110, 1))"
      ]
     },
     "execution_count": 10,
     "metadata": {},
     "output_type": "execute_result"
    }
   ],
   "source": [
    "X.shape,Y.shape"
   ]
  },
  {
   "cell_type": "code",
   "execution_count": 11,
   "metadata": {
    "ExecuteTime": {
     "end_time": "2022-10-13T13:15:39.203646Z",
     "start_time": "2022-10-13T13:15:39.194323Z"
    },
    "execution": {
     "iopub.execute_input": "2022-04-14T10:25:51.979265Z",
     "iopub.status.busy": "2022-04-14T10:25:51.978990Z",
     "iopub.status.idle": "2022-04-14T10:25:51.987321Z",
     "shell.execute_reply": "2022-04-14T10:25:51.986454Z"
    }
   },
   "outputs": [
    {
     "data": {
      "text/plain": [
       "39110"
      ]
     },
     "execution_count": 11,
     "metadata": {},
     "output_type": "execute_result"
    }
   ],
   "source": [
    "# train_valid_index = sequence_chunks(X)\n",
    "train_valid_index = [*range(0, len(X))]\n",
    "len(train_valid_index)"
   ]
  },
  {
   "cell_type": "code",
   "execution_count": 12,
   "metadata": {
    "ExecuteTime": {
     "end_time": "2022-10-13T13:15:40.180382Z",
     "start_time": "2022-10-13T13:15:40.170393Z"
    },
    "execution": {
     "iopub.execute_input": "2022-04-14T10:25:51.991459Z",
     "iopub.status.busy": "2022-04-14T10:25:51.991069Z",
     "iopub.status.idle": "2022-04-14T10:25:51.998513Z",
     "shell.execute_reply": "2022-04-14T10:25:51.997783Z"
    }
   },
   "outputs": [],
   "source": [
    "class LiverDataset(Dataset):\n",
    "    def __init__(self, data, ):\n",
    "        self.data = data\n",
    "        \n",
    "    def __getitem__(self, index):\n",
    "        img = np.load(X[self.data[index]])\n",
    "        img_normal = (img - min_img)/(max_img - min_img)\n",
    "        img_t = img_normal[:,22:-23, 22:-23]\n",
    "#         img_t = img_normal[:,122:180,122:180]\n",
    "        return img_t.astype(np.float32), Y[self.data[index]].astype(np.float32)\n",
    "\n",
    "    def __len__(self):\n",
    "        return len(self.data)"
   ]
  },
  {
   "cell_type": "code",
   "execution_count": 13,
   "metadata": {
    "ExecuteTime": {
     "end_time": "2022-10-13T13:15:40.623915Z",
     "start_time": "2022-10-13T13:15:40.602009Z"
    },
    "execution": {
     "iopub.execute_input": "2022-04-14T10:25:52.002637Z",
     "iopub.status.busy": "2022-04-14T10:25:52.002288Z",
     "iopub.status.idle": "2022-04-14T10:25:52.019407Z",
     "shell.execute_reply": "2022-04-14T10:25:52.018708Z"
    }
   },
   "outputs": [
    {
     "name": "stdout",
     "output_type": "stream",
     "text": [
      "training index shape: 31288\n",
      "validation index shape: 7822\n"
     ]
    }
   ],
   "source": [
    "#split training data and validation data \n",
    "train_index, valid_index = train_test_split(train_valid_index,test_size=0.2,shuffle = True)\n",
    "\n",
    "#check data shape \n",
    "print(\"training index shape:\",len(train_index))\n",
    "print(\"validation index shape:\",len(valid_index))\n",
    "\n",
    "#form dataset\n",
    "train_indexset = LiverDataset(train_index)\n",
    "valid_indexset = LiverDataset(valid_index)\n",
    "\n",
    "#form dataloader\n",
    "train_index_loader = DataLoader(dataset=train_indexset,batch_size=batch_size,shuffle=True,)\n",
    "valid_index_loader = DataLoader(dataset=valid_indexset,batch_size=batch_size,shuffle=True,)"
   ]
  },
  {
   "cell_type": "markdown",
   "metadata": {},
   "source": [
    "# Graph"
   ]
  },
  {
   "cell_type": "code",
   "execution_count": 14,
   "metadata": {
    "ExecuteTime": {
     "end_time": "2022-10-13T13:15:42.112602Z",
     "start_time": "2022-10-13T13:15:42.106423Z"
    },
    "execution": {
     "iopub.execute_input": "2022-04-14T10:25:52.023445Z",
     "iopub.status.busy": "2022-04-14T10:25:52.023157Z",
     "iopub.status.idle": "2022-04-14T10:25:52.028350Z",
     "shell.execute_reply": "2022-04-14T10:25:52.027572Z"
    }
   },
   "outputs": [],
   "source": [
    "adj = np.load(root_path +'data/adj.npy')"
   ]
  },
  {
   "cell_type": "code",
   "execution_count": 15,
   "metadata": {
    "ExecuteTime": {
     "end_time": "2022-10-13T13:15:42.479854Z",
     "start_time": "2022-10-13T13:15:42.473904Z"
    },
    "execution": {
     "iopub.execute_input": "2022-04-14T10:25:52.032645Z",
     "iopub.status.busy": "2022-04-14T10:25:52.032015Z",
     "iopub.status.idle": "2022-04-14T10:25:52.037295Z",
     "shell.execute_reply": "2022-04-14T10:25:52.036418Z"
    }
   },
   "outputs": [],
   "source": [
    "center_wind = np.load(root_path + 'data/center_wind.npy')"
   ]
  },
  {
   "cell_type": "code",
   "execution_count": 16,
   "metadata": {
    "ExecuteTime": {
     "end_time": "2022-10-13T13:15:42.880727Z",
     "start_time": "2022-10-13T13:15:42.874067Z"
    },
    "execution": {
     "iopub.execute_input": "2022-04-14T10:25:52.041795Z",
     "iopub.status.busy": "2022-04-14T10:25:52.041398Z",
     "iopub.status.idle": "2022-04-14T10:25:52.052417Z",
     "shell.execute_reply": "2022-04-14T10:25:52.051725Z"
    }
   },
   "outputs": [
    {
     "data": {
      "text/plain": [
       "((15, 15), (15, 1))"
      ]
     },
     "execution_count": 16,
     "metadata": {},
     "output_type": "execute_result"
    }
   ],
   "source": [
    "adj.shape, center_wind.shape"
   ]
  },
  {
   "cell_type": "markdown",
   "metadata": {},
   "source": [
    "# Model"
   ]
  },
  {
   "cell_type": "code",
   "execution_count": 17,
   "metadata": {
    "ExecuteTime": {
     "end_time": "2022-10-13T13:15:45.273424Z",
     "start_time": "2022-10-13T13:15:45.244417Z"
    },
    "execution": {
     "iopub.execute_input": "2022-04-14T10:25:54.048642Z",
     "iopub.status.busy": "2022-04-14T10:25:54.048242Z",
     "iopub.status.idle": "2022-04-14T10:25:54.078754Z",
     "shell.execute_reply": "2022-04-14T10:25:54.078116Z"
    }
   },
   "outputs": [],
   "source": [
    "class TFGNet(nn.Module):\n",
    "    def __init__(self, num_classes, img_scale=448):\n",
    "        super(TFGNet, self).__init__()\n",
    "        \n",
    "        #backbone 1\n",
    "        self.b1_resnet_cnn = models.resnet18(num_classes=num_classes)\n",
    "        self.b1_feature_extractor = nn.Sequential(\n",
    "            nn.Conv2d(1, 64, kernel_size=(7, 7), stride=(2, 2), padding=(3, 3), bias=False),\n",
    "            nn.BatchNorm2d(64, eps=1e-05, momentum=0.1, affine=True, track_running_stats=True),\n",
    "            nn.ReLU(inplace=True),\n",
    "            nn.MaxPool2d(kernel_size=3, stride=2, padding=1, dilation=1, ceil_mode=False),\n",
    "        )\n",
    "        \n",
    "        self.b1_resnet_cnn = nn.Sequential(*( list(self.b1_resnet_cnn.children())[4:-2] ))\n",
    "        self.b1_pooling = nn.Sequential(\n",
    "            nn.AdaptiveAvgPool2d(output_size=(1,1)),\n",
    "            nn.Flatten()\n",
    "        )\n",
    "        \n",
    "        # FTFE\n",
    "        self.b2_resnet_cnn = models.resnet18(num_classes=num_classes)\n",
    "        self.b2_feature_extractor = nn.Sequential(\n",
    "            nn.Conv2d(1, 64, kernel_size=(7, 7), stride=(2, 2), padding=(3, 3), bias=False),\n",
    "            nn.BatchNorm2d(64, eps=1e-05, momentum=0.1, affine=True, track_running_stats=True),\n",
    "            nn.ReLU(inplace=True),\n",
    "            nn.MaxPool2d(kernel_size=3, stride=2, padding=1, dilation=1, ceil_mode=False),\n",
    "        )\n",
    "            \n",
    "        self.b2_resnet_cnn = nn.Sequential(*( list(self.b2_resnet_cnn.children())[4:-2] ))\n",
    "        self.b2_pooling = nn.Sequential(\n",
    "            nn.AdaptiveAvgPool2d(output_size=(1,1)),\n",
    "            nn.Flatten()\n",
    "        )\n",
    "\n",
    "        self.conbine_fc = nn.Linear(in_features=512+512, out_features=512, bias=True)\n",
    "        self.fc = nn.Linear(in_features=512+16, out_features=1, bias=True)\n",
    "        \n",
    "        self.crop_resize = AttentionCropLayer()\n",
    "        \n",
    "        self.apn1 = nn.Sequential(\n",
    "            nn.Linear(512, 256),\n",
    "            nn.Tanh(),\n",
    "            nn.Linear(256, 3),\n",
    "            nn.Sigmoid(),\n",
    "        )\n",
    "        \n",
    "        # WTRG\n",
    "        self.gcn1 = GraphConvolution(in_features=1, out_features=8)\n",
    "        self.gcn2 = GraphConvolution(in_features=8, out_features=16)\n",
    "        self.gat1 = MultiHeadGAT(in_features=16, out_features=16, num_heads=3)\n",
    "        \n",
    "        self.center_wind = torch.tensor(center_wind).cuda()\n",
    "        self.adj = torch.tensor(adj).cuda()\n",
    "        \n",
    "        self.conv = nn.Conv1d(15, 1, kernel_size=3,stride=1,padding=1)\n",
    "\n",
    "    def forward(self, x):\n",
    "        batch_size = x.shape[0]\n",
    "        rescale_tl = torch.tensor([1, 1, 0.5], requires_grad=False).cuda()\n",
    "        \n",
    "        # forward @scale-1\n",
    "        extract_s1 = self.b1_feature_extractor(x)\n",
    "        feature_s1 = self.b1_resnet_cnn(extract_s1)\n",
    "        pool_s1 = self.b1_pooling(feature_s1)\n",
    "        _attention_s1 = self.apn1(pool_s1.view(-1, 512))\n",
    "        attention_s1 = _attention_s1*rescale_tl\n",
    "        resized_s1 = self.crop_resize(x, attention_s1 * x.shape[-1])\n",
    "        \n",
    "        # forward @scale-2\n",
    "        extract_s2 = self.b2_feature_extractor(resized_s1)  # torch.Size([1, 320, 7, 7])\n",
    "        feature_s2 = self.b2_resnet_cnn(extract_s2)\n",
    "        pool_s2 = self.b2_pooling(feature_s2)\n",
    "        \n",
    "        out = torch.cat([pool_s1.view(-1, 512), pool_s2.view(-1, 512)], dim=-1)\n",
    "        out = self.conbine_fc(out)\n",
    "        \n",
    "        # gcn \n",
    "        gcn_out = self.gcn1(self.center_wind, self.adj)\n",
    "        gcn_out = self.gcn2(gcn_out, self.adj)\n",
    "        gcn_out = self.gat1(gcn_out, self.adj)\n",
    "        \n",
    "        gcn_out = torch.unsqueeze(gcn_out,dim=0)\n",
    "        gcn_out = self.conv(gcn_out)\n",
    "        gcn_out = torch.squeeze(gcn_out,dim=0)\n",
    "        gcn_out = gcn_out.repeat(batch_size,1)\n",
    "        \n",
    "        out = torch.cat([out, gcn_out], dim=-1)\n",
    "        \n",
    "        pred = self.fc(out)\n",
    "                \n",
    "        return pred, [feature_s1, feature_s2], [attention_s1, ], [resized_s1, ]"
   ]
  },
  {
   "cell_type": "code",
   "execution_count": 18,
   "metadata": {
    "ExecuteTime": {
     "end_time": "2022-10-13T13:15:47.578144Z",
     "start_time": "2022-10-13T13:15:46.258382Z"
    },
    "execution": {
     "iopub.execute_input": "2022-04-14T10:25:54.089479Z",
     "iopub.status.busy": "2022-04-14T10:25:54.088992Z",
     "iopub.status.idle": "2022-04-14T10:25:55.542476Z",
     "shell.execute_reply": "2022-04-14T10:25:55.541586Z"
    },
    "scrolled": true
   },
   "outputs": [],
   "source": [
    "model = TFGNet(num_classes=1)"
   ]
  },
  {
   "cell_type": "code",
   "execution_count": 19,
   "metadata": {
    "ExecuteTime": {
     "end_time": "2022-10-13T13:15:47.611269Z",
     "start_time": "2022-10-13T13:15:47.579787Z"
    },
    "execution": {
     "iopub.execute_input": "2022-04-14T10:25:55.556150Z",
     "iopub.status.busy": "2022-04-14T10:25:55.555792Z",
     "iopub.status.idle": "2022-04-14T10:25:55.592472Z",
     "shell.execute_reply": "2022-04-14T10:25:55.591922Z"
    },
    "scrolled": true
   },
   "outputs": [
    {
     "data": {
      "text/plain": [
       "DataParallel(\n",
       "  (module): TFGNet(\n",
       "    (b1_resnet_cnn): Sequential(\n",
       "      (0): Sequential(\n",
       "        (0): BasicBlock(\n",
       "          (conv1): Conv2d(64, 64, kernel_size=(3, 3), stride=(1, 1), padding=(1, 1), bias=False)\n",
       "          (bn1): BatchNorm2d(64, eps=1e-05, momentum=0.1, affine=True, track_running_stats=True)\n",
       "          (relu): ReLU(inplace=True)\n",
       "          (conv2): Conv2d(64, 64, kernel_size=(3, 3), stride=(1, 1), padding=(1, 1), bias=False)\n",
       "          (bn2): BatchNorm2d(64, eps=1e-05, momentum=0.1, affine=True, track_running_stats=True)\n",
       "        )\n",
       "        (1): BasicBlock(\n",
       "          (conv1): Conv2d(64, 64, kernel_size=(3, 3), stride=(1, 1), padding=(1, 1), bias=False)\n",
       "          (bn1): BatchNorm2d(64, eps=1e-05, momentum=0.1, affine=True, track_running_stats=True)\n",
       "          (relu): ReLU(inplace=True)\n",
       "          (conv2): Conv2d(64, 64, kernel_size=(3, 3), stride=(1, 1), padding=(1, 1), bias=False)\n",
       "          (bn2): BatchNorm2d(64, eps=1e-05, momentum=0.1, affine=True, track_running_stats=True)\n",
       "        )\n",
       "      )\n",
       "      (1): Sequential(\n",
       "        (0): BasicBlock(\n",
       "          (conv1): Conv2d(64, 128, kernel_size=(3, 3), stride=(2, 2), padding=(1, 1), bias=False)\n",
       "          (bn1): BatchNorm2d(128, eps=1e-05, momentum=0.1, affine=True, track_running_stats=True)\n",
       "          (relu): ReLU(inplace=True)\n",
       "          (conv2): Conv2d(128, 128, kernel_size=(3, 3), stride=(1, 1), padding=(1, 1), bias=False)\n",
       "          (bn2): BatchNorm2d(128, eps=1e-05, momentum=0.1, affine=True, track_running_stats=True)\n",
       "          (downsample): Sequential(\n",
       "            (0): Conv2d(64, 128, kernel_size=(1, 1), stride=(2, 2), bias=False)\n",
       "            (1): BatchNorm2d(128, eps=1e-05, momentum=0.1, affine=True, track_running_stats=True)\n",
       "          )\n",
       "        )\n",
       "        (1): BasicBlock(\n",
       "          (conv1): Conv2d(128, 128, kernel_size=(3, 3), stride=(1, 1), padding=(1, 1), bias=False)\n",
       "          (bn1): BatchNorm2d(128, eps=1e-05, momentum=0.1, affine=True, track_running_stats=True)\n",
       "          (relu): ReLU(inplace=True)\n",
       "          (conv2): Conv2d(128, 128, kernel_size=(3, 3), stride=(1, 1), padding=(1, 1), bias=False)\n",
       "          (bn2): BatchNorm2d(128, eps=1e-05, momentum=0.1, affine=True, track_running_stats=True)\n",
       "        )\n",
       "      )\n",
       "      (2): Sequential(\n",
       "        (0): BasicBlock(\n",
       "          (conv1): Conv2d(128, 256, kernel_size=(3, 3), stride=(2, 2), padding=(1, 1), bias=False)\n",
       "          (bn1): BatchNorm2d(256, eps=1e-05, momentum=0.1, affine=True, track_running_stats=True)\n",
       "          (relu): ReLU(inplace=True)\n",
       "          (conv2): Conv2d(256, 256, kernel_size=(3, 3), stride=(1, 1), padding=(1, 1), bias=False)\n",
       "          (bn2): BatchNorm2d(256, eps=1e-05, momentum=0.1, affine=True, track_running_stats=True)\n",
       "          (downsample): Sequential(\n",
       "            (0): Conv2d(128, 256, kernel_size=(1, 1), stride=(2, 2), bias=False)\n",
       "            (1): BatchNorm2d(256, eps=1e-05, momentum=0.1, affine=True, track_running_stats=True)\n",
       "          )\n",
       "        )\n",
       "        (1): BasicBlock(\n",
       "          (conv1): Conv2d(256, 256, kernel_size=(3, 3), stride=(1, 1), padding=(1, 1), bias=False)\n",
       "          (bn1): BatchNorm2d(256, eps=1e-05, momentum=0.1, affine=True, track_running_stats=True)\n",
       "          (relu): ReLU(inplace=True)\n",
       "          (conv2): Conv2d(256, 256, kernel_size=(3, 3), stride=(1, 1), padding=(1, 1), bias=False)\n",
       "          (bn2): BatchNorm2d(256, eps=1e-05, momentum=0.1, affine=True, track_running_stats=True)\n",
       "        )\n",
       "      )\n",
       "      (3): Sequential(\n",
       "        (0): BasicBlock(\n",
       "          (conv1): Conv2d(256, 512, kernel_size=(3, 3), stride=(2, 2), padding=(1, 1), bias=False)\n",
       "          (bn1): BatchNorm2d(512, eps=1e-05, momentum=0.1, affine=True, track_running_stats=True)\n",
       "          (relu): ReLU(inplace=True)\n",
       "          (conv2): Conv2d(512, 512, kernel_size=(3, 3), stride=(1, 1), padding=(1, 1), bias=False)\n",
       "          (bn2): BatchNorm2d(512, eps=1e-05, momentum=0.1, affine=True, track_running_stats=True)\n",
       "          (downsample): Sequential(\n",
       "            (0): Conv2d(256, 512, kernel_size=(1, 1), stride=(2, 2), bias=False)\n",
       "            (1): BatchNorm2d(512, eps=1e-05, momentum=0.1, affine=True, track_running_stats=True)\n",
       "          )\n",
       "        )\n",
       "        (1): BasicBlock(\n",
       "          (conv1): Conv2d(512, 512, kernel_size=(3, 3), stride=(1, 1), padding=(1, 1), bias=False)\n",
       "          (bn1): BatchNorm2d(512, eps=1e-05, momentum=0.1, affine=True, track_running_stats=True)\n",
       "          (relu): ReLU(inplace=True)\n",
       "          (conv2): Conv2d(512, 512, kernel_size=(3, 3), stride=(1, 1), padding=(1, 1), bias=False)\n",
       "          (bn2): BatchNorm2d(512, eps=1e-05, momentum=0.1, affine=True, track_running_stats=True)\n",
       "        )\n",
       "      )\n",
       "    )\n",
       "    (b1_feature_extractor): Sequential(\n",
       "      (0): Conv2d(1, 64, kernel_size=(7, 7), stride=(2, 2), padding=(3, 3), bias=False)\n",
       "      (1): BatchNorm2d(64, eps=1e-05, momentum=0.1, affine=True, track_running_stats=True)\n",
       "      (2): ReLU(inplace=True)\n",
       "      (3): MaxPool2d(kernel_size=3, stride=2, padding=1, dilation=1, ceil_mode=False)\n",
       "    )\n",
       "    (b1_pooling): Sequential(\n",
       "      (0): AdaptiveAvgPool2d(output_size=(1, 1))\n",
       "      (1): Flatten(start_dim=1, end_dim=-1)\n",
       "    )\n",
       "    (b2_resnet_cnn): Sequential(\n",
       "      (0): Sequential(\n",
       "        (0): BasicBlock(\n",
       "          (conv1): Conv2d(64, 64, kernel_size=(3, 3), stride=(1, 1), padding=(1, 1), bias=False)\n",
       "          (bn1): BatchNorm2d(64, eps=1e-05, momentum=0.1, affine=True, track_running_stats=True)\n",
       "          (relu): ReLU(inplace=True)\n",
       "          (conv2): Conv2d(64, 64, kernel_size=(3, 3), stride=(1, 1), padding=(1, 1), bias=False)\n",
       "          (bn2): BatchNorm2d(64, eps=1e-05, momentum=0.1, affine=True, track_running_stats=True)\n",
       "        )\n",
       "        (1): BasicBlock(\n",
       "          (conv1): Conv2d(64, 64, kernel_size=(3, 3), stride=(1, 1), padding=(1, 1), bias=False)\n",
       "          (bn1): BatchNorm2d(64, eps=1e-05, momentum=0.1, affine=True, track_running_stats=True)\n",
       "          (relu): ReLU(inplace=True)\n",
       "          (conv2): Conv2d(64, 64, kernel_size=(3, 3), stride=(1, 1), padding=(1, 1), bias=False)\n",
       "          (bn2): BatchNorm2d(64, eps=1e-05, momentum=0.1, affine=True, track_running_stats=True)\n",
       "        )\n",
       "      )\n",
       "      (1): Sequential(\n",
       "        (0): BasicBlock(\n",
       "          (conv1): Conv2d(64, 128, kernel_size=(3, 3), stride=(2, 2), padding=(1, 1), bias=False)\n",
       "          (bn1): BatchNorm2d(128, eps=1e-05, momentum=0.1, affine=True, track_running_stats=True)\n",
       "          (relu): ReLU(inplace=True)\n",
       "          (conv2): Conv2d(128, 128, kernel_size=(3, 3), stride=(1, 1), padding=(1, 1), bias=False)\n",
       "          (bn2): BatchNorm2d(128, eps=1e-05, momentum=0.1, affine=True, track_running_stats=True)\n",
       "          (downsample): Sequential(\n",
       "            (0): Conv2d(64, 128, kernel_size=(1, 1), stride=(2, 2), bias=False)\n",
       "            (1): BatchNorm2d(128, eps=1e-05, momentum=0.1, affine=True, track_running_stats=True)\n",
       "          )\n",
       "        )\n",
       "        (1): BasicBlock(\n",
       "          (conv1): Conv2d(128, 128, kernel_size=(3, 3), stride=(1, 1), padding=(1, 1), bias=False)\n",
       "          (bn1): BatchNorm2d(128, eps=1e-05, momentum=0.1, affine=True, track_running_stats=True)\n",
       "          (relu): ReLU(inplace=True)\n",
       "          (conv2): Conv2d(128, 128, kernel_size=(3, 3), stride=(1, 1), padding=(1, 1), bias=False)\n",
       "          (bn2): BatchNorm2d(128, eps=1e-05, momentum=0.1, affine=True, track_running_stats=True)\n",
       "        )\n",
       "      )\n",
       "      (2): Sequential(\n",
       "        (0): BasicBlock(\n",
       "          (conv1): Conv2d(128, 256, kernel_size=(3, 3), stride=(2, 2), padding=(1, 1), bias=False)\n",
       "          (bn1): BatchNorm2d(256, eps=1e-05, momentum=0.1, affine=True, track_running_stats=True)\n",
       "          (relu): ReLU(inplace=True)\n",
       "          (conv2): Conv2d(256, 256, kernel_size=(3, 3), stride=(1, 1), padding=(1, 1), bias=False)\n",
       "          (bn2): BatchNorm2d(256, eps=1e-05, momentum=0.1, affine=True, track_running_stats=True)\n",
       "          (downsample): Sequential(\n",
       "            (0): Conv2d(128, 256, kernel_size=(1, 1), stride=(2, 2), bias=False)\n",
       "            (1): BatchNorm2d(256, eps=1e-05, momentum=0.1, affine=True, track_running_stats=True)\n",
       "          )\n",
       "        )\n",
       "        (1): BasicBlock(\n",
       "          (conv1): Conv2d(256, 256, kernel_size=(3, 3), stride=(1, 1), padding=(1, 1), bias=False)\n",
       "          (bn1): BatchNorm2d(256, eps=1e-05, momentum=0.1, affine=True, track_running_stats=True)\n",
       "          (relu): ReLU(inplace=True)\n",
       "          (conv2): Conv2d(256, 256, kernel_size=(3, 3), stride=(1, 1), padding=(1, 1), bias=False)\n",
       "          (bn2): BatchNorm2d(256, eps=1e-05, momentum=0.1, affine=True, track_running_stats=True)\n",
       "        )\n",
       "      )\n",
       "      (3): Sequential(\n",
       "        (0): BasicBlock(\n",
       "          (conv1): Conv2d(256, 512, kernel_size=(3, 3), stride=(2, 2), padding=(1, 1), bias=False)\n",
       "          (bn1): BatchNorm2d(512, eps=1e-05, momentum=0.1, affine=True, track_running_stats=True)\n",
       "          (relu): ReLU(inplace=True)\n",
       "          (conv2): Conv2d(512, 512, kernel_size=(3, 3), stride=(1, 1), padding=(1, 1), bias=False)\n",
       "          (bn2): BatchNorm2d(512, eps=1e-05, momentum=0.1, affine=True, track_running_stats=True)\n",
       "          (downsample): Sequential(\n",
       "            (0): Conv2d(256, 512, kernel_size=(1, 1), stride=(2, 2), bias=False)\n",
       "            (1): BatchNorm2d(512, eps=1e-05, momentum=0.1, affine=True, track_running_stats=True)\n",
       "          )\n",
       "        )\n",
       "        (1): BasicBlock(\n",
       "          (conv1): Conv2d(512, 512, kernel_size=(3, 3), stride=(1, 1), padding=(1, 1), bias=False)\n",
       "          (bn1): BatchNorm2d(512, eps=1e-05, momentum=0.1, affine=True, track_running_stats=True)\n",
       "          (relu): ReLU(inplace=True)\n",
       "          (conv2): Conv2d(512, 512, kernel_size=(3, 3), stride=(1, 1), padding=(1, 1), bias=False)\n",
       "          (bn2): BatchNorm2d(512, eps=1e-05, momentum=0.1, affine=True, track_running_stats=True)\n",
       "        )\n",
       "      )\n",
       "    )\n",
       "    (b2_feature_extractor): Sequential(\n",
       "      (0): Conv2d(1, 64, kernel_size=(7, 7), stride=(2, 2), padding=(3, 3), bias=False)\n",
       "      (1): BatchNorm2d(64, eps=1e-05, momentum=0.1, affine=True, track_running_stats=True)\n",
       "      (2): ReLU(inplace=True)\n",
       "      (3): MaxPool2d(kernel_size=3, stride=2, padding=1, dilation=1, ceil_mode=False)\n",
       "    )\n",
       "    (b2_pooling): Sequential(\n",
       "      (0): AdaptiveAvgPool2d(output_size=(1, 1))\n",
       "      (1): Flatten(start_dim=1, end_dim=-1)\n",
       "    )\n",
       "    (conbine_fc): Linear(in_features=1024, out_features=512, bias=True)\n",
       "    (fc): Linear(in_features=528, out_features=1, bias=True)\n",
       "    (crop_resize): AttentionCropLayer()\n",
       "    (apn1): Sequential(\n",
       "      (0): Linear(in_features=512, out_features=256, bias=True)\n",
       "      (1): Tanh()\n",
       "      (2): Linear(in_features=256, out_features=3, bias=True)\n",
       "      (3): Sigmoid()\n",
       "    )\n",
       "    (gcn1): GraphConvolution (1 -> 8)\n",
       "    (gcn2): GraphConvolution (8 -> 16)\n",
       "    (gat1): MultiHeadGAT (16 -> 16)\n",
       "    (conv): Conv1d(15, 1, kernel_size=(3,), stride=(1,), padding=(1,))\n",
       "  )\n",
       ")"
      ]
     },
     "execution_count": 19,
     "metadata": {},
     "output_type": "execute_result"
    }
   ],
   "source": [
    "criterion = nn.L1Loss()\n",
    "optimizer = optim.Adam(model.parameters(), lr=learning_rate)\n",
    "start_epoch = 0\n",
    "min_val_loss = float('inf')\n",
    "model = nn.DataParallel(model,device_ids=[0, 1, ])\n",
    "model.to(\"cuda\")"
   ]
  },
  {
   "cell_type": "markdown",
   "metadata": {},
   "source": [
    "# Trainer"
   ]
  },
  {
   "cell_type": "code",
   "execution_count": 20,
   "metadata": {
    "ExecuteTime": {
     "end_time": "2022-10-13T13:15:49.679445Z",
     "start_time": "2022-10-13T13:15:49.674897Z"
    },
    "execution": {
     "iopub.execute_input": "2022-04-14T10:25:55.597164Z",
     "iopub.status.busy": "2022-04-14T10:25:55.596776Z",
     "iopub.status.idle": "2022-04-14T10:25:55.600136Z",
     "shell.execute_reply": "2022-04-14T10:25:55.599585Z"
    }
   },
   "outputs": [],
   "source": [
    "# checkpoint = torch.load(model_dir + '/' + 'best_validate_model.pth')\n",
    "# print(checkpoint.keys())\n",
    "# min_val_loss = checkpoint['min_val_loss']\n",
    "# optimizer.load_state_dict(checkpoint['optimizer'])\n",
    "# model.load_state_dict(checkpoint['model'])\n",
    "# start_epoch = checkpoint['epoch']\n",
    "# logging.info('resume training '+model_name)"
   ]
  },
  {
   "cell_type": "code",
   "execution_count": 33,
   "metadata": {
    "ExecuteTime": {
     "end_time": "2022-04-13T15:15:37.572438Z",
     "start_time": "2022-04-13T15:15:19.309224Z"
    },
    "execution": {
     "iopub.execute_input": "2022-04-14T10:25:55.604494Z",
     "iopub.status.busy": "2022-04-14T10:25:55.604123Z",
     "iopub.status.idle": "2022-04-14T15:07:51.666497Z",
     "shell.execute_reply": "2022-04-14T15:07:51.666013Z"
    },
    "scrolled": true
   },
   "outputs": [
    {
     "name": "stderr",
     "output_type": "stream",
     "text": [
      "  0%|          | 0/123 [00:00<?, ?it/s]"
     ]
    },
    {
     "name": "stdout",
     "output_type": "stream",
     "text": [
      "epochs [1/200]\n"
     ]
    },
    {
     "name": "stderr",
     "output_type": "stream",
     "text": [
      "100%|██████████| 123/123 [01:16<00:00,  1.61it/s]\n",
      "100%|██████████| 31/31 [00:11<00:00,  2.66it/s]\n",
      "  0%|          | 0/123 [00:00<?, ?it/s]"
     ]
    },
    {
     "name": "stdout",
     "output_type": "stream",
     "text": [
      "Saving Model in epoch 1\n",
      "cost:88.000000s total_train_loss: 17.16737885 val_loss: 14.42577737\n",
      "epochs [2/200]\n"
     ]
    },
    {
     "name": "stderr",
     "output_type": "stream",
     "text": [
      "100%|██████████| 123/123 [01:10<00:00,  1.75it/s]\n",
      "100%|██████████| 31/31 [00:10<00:00,  2.85it/s]\n",
      "  0%|          | 0/123 [00:00<?, ?it/s]"
     ]
    },
    {
     "name": "stdout",
     "output_type": "stream",
     "text": [
      "cost:81.000000s total_train_loss: 14.77588781 val_loss: 18.02853043\n",
      "epochs [3/200]\n"
     ]
    },
    {
     "name": "stderr",
     "output_type": "stream",
     "text": [
      "100%|██████████| 123/123 [01:09<00:00,  1.76it/s]\n",
      "100%|██████████| 31/31 [00:11<00:00,  2.81it/s]\n",
      "  0%|          | 0/123 [00:00<?, ?it/s]"
     ]
    },
    {
     "name": "stdout",
     "output_type": "stream",
     "text": [
      "Saving Model in epoch 3\n",
      "cost:82.000000s total_train_loss: 14.33358074 val_loss: 12.39210732\n",
      "epochs [4/200]\n"
     ]
    },
    {
     "name": "stderr",
     "output_type": "stream",
     "text": [
      "100%|██████████| 123/123 [01:10<00:00,  1.73it/s]\n",
      "100%|██████████| 31/31 [00:11<00:00,  2.66it/s]\n",
      "  0%|          | 0/123 [00:00<?, ?it/s]"
     ]
    },
    {
     "name": "stdout",
     "output_type": "stream",
     "text": [
      "Saving Model in epoch 4\n",
      "cost:84.000000s total_train_loss: 11.51936378 val_loss: 10.16503648\n",
      "epochs [5/200]\n"
     ]
    },
    {
     "name": "stderr",
     "output_type": "stream",
     "text": [
      "100%|██████████| 123/123 [01:10<00:00,  1.74it/s]\n",
      "100%|██████████| 31/31 [00:11<00:00,  2.70it/s]\n",
      "  0%|          | 0/123 [00:00<?, ?it/s]"
     ]
    },
    {
     "name": "stdout",
     "output_type": "stream",
     "text": [
      "cost:82.000000s total_train_loss: 11.82862280 val_loss: 11.03732660\n",
      "epochs [6/200]\n"
     ]
    },
    {
     "name": "stderr",
     "output_type": "stream",
     "text": [
      "100%|██████████| 123/123 [01:10<00:00,  1.74it/s]\n",
      "100%|██████████| 31/31 [00:11<00:00,  2.73it/s]\n",
      "  0%|          | 0/123 [00:00<?, ?it/s]"
     ]
    },
    {
     "name": "stdout",
     "output_type": "stream",
     "text": [
      "cost:82.000000s total_train_loss: 10.83372729 val_loss: 10.97438988\n",
      "epochs [7/200]\n"
     ]
    },
    {
     "name": "stderr",
     "output_type": "stream",
     "text": [
      "100%|██████████| 123/123 [01:10<00:00,  1.73it/s]\n",
      "100%|██████████| 31/31 [00:11<00:00,  2.69it/s]\n",
      "  0%|          | 0/123 [00:00<?, ?it/s]"
     ]
    },
    {
     "name": "stdout",
     "output_type": "stream",
     "text": [
      "cost:82.000000s total_train_loss: 10.40711073 val_loss: 10.71841944\n",
      "epochs [8/200]\n"
     ]
    },
    {
     "name": "stderr",
     "output_type": "stream",
     "text": [
      "100%|██████████| 123/123 [01:10<00:00,  1.74it/s]\n",
      "100%|██████████| 31/31 [00:11<00:00,  2.67it/s]\n"
     ]
    },
    {
     "name": "stdout",
     "output_type": "stream",
     "text": [
      "Saving Model in epoch 8\n"
     ]
    },
    {
     "name": "stderr",
     "output_type": "stream",
     "text": [
      "  0%|          | 0/123 [00:00<?, ?it/s]"
     ]
    },
    {
     "name": "stdout",
     "output_type": "stream",
     "text": [
      "cost:83.000000s total_train_loss: 9.83379627 val_loss: 9.89468193\n",
      "epochs [9/200]\n"
     ]
    },
    {
     "name": "stderr",
     "output_type": "stream",
     "text": [
      "100%|██████████| 123/123 [01:10<00:00,  1.75it/s]\n",
      "100%|██████████| 31/31 [00:11<00:00,  2.67it/s]\n",
      "  0%|          | 0/123 [00:00<?, ?it/s]"
     ]
    },
    {
     "name": "stdout",
     "output_type": "stream",
     "text": [
      "cost:81.000000s total_train_loss: 9.52052106 val_loss: 10.31377180\n",
      "epochs [10/200]\n"
     ]
    },
    {
     "name": "stderr",
     "output_type": "stream",
     "text": [
      "100%|██████████| 123/123 [01:10<00:00,  1.74it/s]\n",
      "100%|██████████| 31/31 [00:11<00:00,  2.74it/s]\n"
     ]
    },
    {
     "name": "stdout",
     "output_type": "stream",
     "text": [
      "Saving Model in epoch 10\n"
     ]
    },
    {
     "name": "stderr",
     "output_type": "stream",
     "text": [
      "  0%|          | 0/123 [00:00<?, ?it/s]"
     ]
    },
    {
     "name": "stdout",
     "output_type": "stream",
     "text": [
      "cost:83.000000s total_train_loss: 9.57195158 val_loss: 9.83562697\n",
      "epochs [11/200]\n"
     ]
    },
    {
     "name": "stderr",
     "output_type": "stream",
     "text": [
      "100%|██████████| 123/123 [01:11<00:00,  1.72it/s]\n",
      "100%|██████████| 31/31 [00:11<00:00,  2.69it/s]\n",
      "  0%|          | 0/123 [00:00<?, ?it/s]"
     ]
    },
    {
     "name": "stdout",
     "output_type": "stream",
     "text": [
      "cost:82.000000s total_train_loss: 9.14907336 val_loss: 10.48388463\n",
      "epochs [12/200]\n"
     ]
    },
    {
     "name": "stderr",
     "output_type": "stream",
     "text": [
      "100%|██████████| 123/123 [01:11<00:00,  1.72it/s]\n",
      "100%|██████████| 31/31 [00:11<00:00,  2.69it/s]\n"
     ]
    },
    {
     "name": "stdout",
     "output_type": "stream",
     "text": [
      "Saving Model in epoch 12\n"
     ]
    },
    {
     "name": "stderr",
     "output_type": "stream",
     "text": [
      "  0%|          | 0/123 [00:00<?, ?it/s]"
     ]
    },
    {
     "name": "stdout",
     "output_type": "stream",
     "text": [
      "cost:84.000000s total_train_loss: 9.36146595 val_loss: 8.84229312\n",
      "epochs [13/200]\n"
     ]
    },
    {
     "name": "stderr",
     "output_type": "stream",
     "text": [
      "100%|██████████| 123/123 [01:10<00:00,  1.76it/s]\n",
      "100%|██████████| 31/31 [00:11<00:00,  2.73it/s]\n",
      "  0%|          | 0/123 [00:00<?, ?it/s]"
     ]
    },
    {
     "name": "stdout",
     "output_type": "stream",
     "text": [
      "cost:81.000000s total_train_loss: 8.77921952 val_loss: 9.24211502\n",
      "epochs [14/200]\n"
     ]
    },
    {
     "name": "stderr",
     "output_type": "stream",
     "text": [
      "100%|██████████| 123/123 [01:10<00:00,  1.75it/s]\n",
      "100%|██████████| 31/31 [00:11<00:00,  2.66it/s]\n",
      "  0%|          | 0/123 [00:00<?, ?it/s]"
     ]
    },
    {
     "name": "stdout",
     "output_type": "stream",
     "text": [
      "cost:81.000000s total_train_loss: 8.72162530 val_loss: 8.92506532\n",
      "epochs [15/200]\n"
     ]
    },
    {
     "name": "stderr",
     "output_type": "stream",
     "text": [
      "100%|██████████| 123/123 [01:10<00:00,  1.74it/s]\n",
      "100%|██████████| 31/31 [00:11<00:00,  2.70it/s]\n"
     ]
    },
    {
     "name": "stdout",
     "output_type": "stream",
     "text": [
      "Saving Model in epoch 15\n"
     ]
    },
    {
     "name": "stderr",
     "output_type": "stream",
     "text": [
      "  0%|          | 0/123 [00:00<?, ?it/s]"
     ]
    },
    {
     "name": "stdout",
     "output_type": "stream",
     "text": [
      "cost:83.000000s total_train_loss: 8.64291658 val_loss: 8.69271915\n",
      "epochs [16/200]\n"
     ]
    },
    {
     "name": "stderr",
     "output_type": "stream",
     "text": [
      "100%|██████████| 123/123 [01:11<00:00,  1.73it/s]\n",
      "100%|██████████| 31/31 [00:11<00:00,  2.70it/s]\n",
      "  0%|          | 0/123 [00:00<?, ?it/s]"
     ]
    },
    {
     "name": "stdout",
     "output_type": "stream",
     "text": [
      "cost:82.000000s total_train_loss: 8.58778876 val_loss: 9.19836823\n",
      "epochs [17/200]\n"
     ]
    },
    {
     "name": "stderr",
     "output_type": "stream",
     "text": [
      "100%|██████████| 123/123 [01:10<00:00,  1.74it/s]\n",
      "100%|██████████| 31/31 [00:11<00:00,  2.65it/s]\n",
      "  0%|          | 0/123 [00:00<?, ?it/s]"
     ]
    },
    {
     "name": "stdout",
     "output_type": "stream",
     "text": [
      "cost:82.000000s total_train_loss: 8.57499501 val_loss: 9.18347116\n",
      "epochs [18/200]\n"
     ]
    },
    {
     "name": "stderr",
     "output_type": "stream",
     "text": [
      "100%|██████████| 123/123 [01:10<00:00,  1.74it/s]\n",
      "100%|██████████| 31/31 [00:11<00:00,  2.66it/s]\n",
      "  0%|          | 0/123 [00:00<?, ?it/s]"
     ]
    },
    {
     "name": "stdout",
     "output_type": "stream",
     "text": [
      "cost:82.000000s total_train_loss: 8.61307131 val_loss: 8.89190938\n",
      "epochs [19/200]\n"
     ]
    },
    {
     "name": "stderr",
     "output_type": "stream",
     "text": [
      "100%|██████████| 123/123 [01:10<00:00,  1.75it/s]\n",
      "100%|██████████| 31/31 [00:11<00:00,  2.64it/s]\n"
     ]
    },
    {
     "name": "stdout",
     "output_type": "stream",
     "text": [
      "Saving Model in epoch 19\n"
     ]
    },
    {
     "name": "stderr",
     "output_type": "stream",
     "text": [
      "  0%|          | 0/123 [00:00<?, ?it/s]"
     ]
    },
    {
     "name": "stdout",
     "output_type": "stream",
     "text": [
      "cost:83.000000s total_train_loss: 8.38317497 val_loss: 8.63197722\n",
      "epochs [20/200]\n"
     ]
    },
    {
     "name": "stderr",
     "output_type": "stream",
     "text": [
      "100%|██████████| 123/123 [01:10<00:00,  1.74it/s]\n",
      "100%|██████████| 31/31 [00:11<00:00,  2.69it/s]\n",
      "  0%|          | 0/123 [00:00<?, ?it/s]"
     ]
    },
    {
     "name": "stdout",
     "output_type": "stream",
     "text": [
      "cost:82.000000s total_train_loss: 8.22883627 val_loss: 9.41050059\n",
      "epochs [21/200]\n"
     ]
    },
    {
     "name": "stderr",
     "output_type": "stream",
     "text": [
      "100%|██████████| 123/123 [01:10<00:00,  1.73it/s]\n",
      "100%|██████████| 31/31 [00:11<00:00,  2.69it/s]\n",
      "  0%|          | 0/123 [00:00<?, ?it/s]"
     ]
    },
    {
     "name": "stdout",
     "output_type": "stream",
     "text": [
      "cost:82.000000s total_train_loss: 8.36841552 val_loss: 8.74099965\n",
      "epochs [22/200]\n"
     ]
    },
    {
     "name": "stderr",
     "output_type": "stream",
     "text": [
      "100%|██████████| 123/123 [01:10<00:00,  1.73it/s]\n",
      "100%|██████████| 31/31 [00:11<00:00,  2.77it/s]\n"
     ]
    },
    {
     "name": "stdout",
     "output_type": "stream",
     "text": [
      "Saving Model in epoch 22\n"
     ]
    },
    {
     "name": "stderr",
     "output_type": "stream",
     "text": [
      "  0%|          | 0/123 [00:00<?, ?it/s]"
     ]
    },
    {
     "name": "stdout",
     "output_type": "stream",
     "text": [
      "cost:83.000000s total_train_loss: 8.24530310 val_loss: 8.51917558\n",
      "epochs [23/200]\n"
     ]
    },
    {
     "name": "stderr",
     "output_type": "stream",
     "text": [
      "100%|██████████| 123/123 [01:11<00:00,  1.73it/s]\n",
      "100%|██████████| 31/31 [00:11<00:00,  2.69it/s]\n"
     ]
    },
    {
     "name": "stdout",
     "output_type": "stream",
     "text": [
      "Saving Model in epoch 23\n"
     ]
    },
    {
     "name": "stderr",
     "output_type": "stream",
     "text": [
      "  0%|          | 0/123 [00:00<?, ?it/s]"
     ]
    },
    {
     "name": "stdout",
     "output_type": "stream",
     "text": [
      "cost:84.000000s total_train_loss: 8.00277377 val_loss: 8.34863590\n",
      "epochs [24/200]\n"
     ]
    },
    {
     "name": "stderr",
     "output_type": "stream",
     "text": [
      "100%|██████████| 123/123 [01:11<00:00,  1.73it/s]\n",
      "100%|██████████| 31/31 [00:11<00:00,  2.70it/s]\n"
     ]
    },
    {
     "name": "stdout",
     "output_type": "stream",
     "text": [
      "Saving Model in epoch 24\n"
     ]
    },
    {
     "name": "stderr",
     "output_type": "stream",
     "text": [
      "  0%|          | 0/123 [00:00<?, ?it/s]"
     ]
    },
    {
     "name": "stdout",
     "output_type": "stream",
     "text": [
      "cost:84.000000s total_train_loss: 7.90544823 val_loss: 8.24480758\n",
      "epochs [25/200]\n"
     ]
    },
    {
     "name": "stderr",
     "output_type": "stream",
     "text": [
      "100%|██████████| 123/123 [01:10<00:00,  1.74it/s]\n",
      "100%|██████████| 31/31 [00:11<00:00,  2.74it/s]\n",
      "  0%|          | 0/123 [00:00<?, ?it/s]"
     ]
    },
    {
     "name": "stdout",
     "output_type": "stream",
     "text": [
      "cost:82.000000s total_train_loss: 7.90548510 val_loss: 8.47116469\n",
      "epochs [26/200]\n"
     ]
    },
    {
     "name": "stderr",
     "output_type": "stream",
     "text": [
      "100%|██████████| 123/123 [01:10<00:00,  1.74it/s]\n",
      "100%|██████████| 31/31 [00:11<00:00,  2.69it/s]\n",
      "  0%|          | 0/123 [00:00<?, ?it/s]"
     ]
    },
    {
     "name": "stdout",
     "output_type": "stream",
     "text": [
      "cost:82.000000s total_train_loss: 7.96637985 val_loss: 8.79169967\n",
      "epochs [27/200]\n"
     ]
    },
    {
     "name": "stderr",
     "output_type": "stream",
     "text": [
      "100%|██████████| 123/123 [01:11<00:00,  1.73it/s]\n",
      "100%|██████████| 31/31 [00:11<00:00,  2.65it/s]\n",
      "  0%|          | 0/123 [00:00<?, ?it/s]"
     ]
    },
    {
     "name": "stdout",
     "output_type": "stream",
     "text": [
      "cost:82.000000s total_train_loss: 7.72650283 val_loss: 8.32991205\n",
      "epochs [28/200]\n"
     ]
    },
    {
     "name": "stderr",
     "output_type": "stream",
     "text": [
      "100%|██████████| 123/123 [01:11<00:00,  1.73it/s]\n",
      "100%|██████████| 31/31 [00:11<00:00,  2.67it/s]\n",
      "  0%|          | 0/123 [00:00<?, ?it/s]"
     ]
    },
    {
     "name": "stdout",
     "output_type": "stream",
     "text": [
      "cost:82.000000s total_train_loss: 7.72132239 val_loss: 8.62760801\n",
      "epochs [29/200]\n"
     ]
    },
    {
     "name": "stderr",
     "output_type": "stream",
     "text": [
      "100%|██████████| 123/123 [01:10<00:00,  1.74it/s]\n",
      "100%|██████████| 31/31 [00:11<00:00,  2.74it/s]\n",
      "  0%|          | 0/123 [00:00<?, ?it/s]"
     ]
    },
    {
     "name": "stdout",
     "output_type": "stream",
     "text": [
      "cost:81.000000s total_train_loss: 7.60007725 val_loss: 8.37644795\n",
      "epochs [30/200]\n"
     ]
    },
    {
     "name": "stderr",
     "output_type": "stream",
     "text": [
      "100%|██████████| 123/123 [01:10<00:00,  1.73it/s]\n",
      "100%|██████████| 31/31 [00:11<00:00,  2.79it/s]\n"
     ]
    },
    {
     "name": "stdout",
     "output_type": "stream",
     "text": [
      "Saving Model in epoch 30\n"
     ]
    },
    {
     "name": "stderr",
     "output_type": "stream",
     "text": [
      "  0%|          | 0/123 [00:00<?, ?it/s]"
     ]
    },
    {
     "name": "stdout",
     "output_type": "stream",
     "text": [
      "cost:83.000000s total_train_loss: 7.53091936 val_loss: 7.99115203\n",
      "epochs [31/200]\n"
     ]
    },
    {
     "name": "stderr",
     "output_type": "stream",
     "text": [
      "100%|██████████| 123/123 [01:10<00:00,  1.74it/s]\n",
      "100%|██████████| 31/31 [00:11<00:00,  2.67it/s]\n",
      "  0%|          | 0/123 [00:00<?, ?it/s]"
     ]
    },
    {
     "name": "stdout",
     "output_type": "stream",
     "text": [
      "cost:82.000000s total_train_loss: 7.45055397 val_loss: 8.05534009\n",
      "epochs [32/200]\n"
     ]
    },
    {
     "name": "stderr",
     "output_type": "stream",
     "text": [
      "100%|██████████| 123/123 [01:10<00:00,  1.74it/s]\n",
      "100%|██████████| 31/31 [00:11<00:00,  2.70it/s]\n",
      "  0%|          | 0/123 [00:00<?, ?it/s]"
     ]
    },
    {
     "name": "stdout",
     "output_type": "stream",
     "text": [
      "cost:82.000000s total_train_loss: 7.35887781 val_loss: 8.47898322\n",
      "epochs [33/200]\n"
     ]
    },
    {
     "name": "stderr",
     "output_type": "stream",
     "text": [
      "100%|██████████| 123/123 [01:10<00:00,  1.74it/s]\n",
      "100%|██████████| 31/31 [00:11<00:00,  2.72it/s]\n",
      "  0%|          | 0/123 [00:00<?, ?it/s]"
     ]
    },
    {
     "name": "stdout",
     "output_type": "stream",
     "text": [
      "cost:82.000000s total_train_loss: 7.19199169 val_loss: 7.99384669\n",
      "epochs [34/200]\n"
     ]
    },
    {
     "name": "stderr",
     "output_type": "stream",
     "text": [
      "100%|██████████| 123/123 [01:10<00:00,  1.74it/s]\n",
      "100%|██████████| 31/31 [00:11<00:00,  2.72it/s]\n",
      "  0%|          | 0/123 [00:00<?, ?it/s]"
     ]
    },
    {
     "name": "stdout",
     "output_type": "stream",
     "text": [
      "cost:81.000000s total_train_loss: 7.09988896 val_loss: 8.09761566\n",
      "epochs [35/200]\n"
     ]
    },
    {
     "name": "stderr",
     "output_type": "stream",
     "text": [
      "100%|██████████| 123/123 [01:10<00:00,  1.74it/s]\n",
      "100%|██████████| 31/31 [00:11<00:00,  2.64it/s]\n",
      "  0%|          | 0/123 [00:00<?, ?it/s]"
     ]
    },
    {
     "name": "stdout",
     "output_type": "stream",
     "text": [
      "cost:82.000000s total_train_loss: 6.99445642 val_loss: 8.24274269\n",
      "epochs [36/200]\n"
     ]
    },
    {
     "name": "stderr",
     "output_type": "stream",
     "text": [
      "100%|██████████| 123/123 [01:10<00:00,  1.75it/s]\n",
      "100%|██████████| 31/31 [00:11<00:00,  2.64it/s]\n",
      "  0%|          | 0/123 [00:00<?, ?it/s]"
     ]
    },
    {
     "name": "stdout",
     "output_type": "stream",
     "text": [
      "cost:81.000000s total_train_loss: 6.85190286 val_loss: 8.04469684\n",
      "epochs [37/200]\n"
     ]
    },
    {
     "name": "stderr",
     "output_type": "stream",
     "text": [
      "100%|██████████| 123/123 [01:10<00:00,  1.75it/s]\n",
      "100%|██████████| 31/31 [00:11<00:00,  2.76it/s]\n"
     ]
    },
    {
     "name": "stdout",
     "output_type": "stream",
     "text": [
      "Saving Model in epoch 37\n"
     ]
    },
    {
     "name": "stderr",
     "output_type": "stream",
     "text": [
      "  0%|          | 0/123 [00:00<?, ?it/s]"
     ]
    },
    {
     "name": "stdout",
     "output_type": "stream",
     "text": [
      "cost:82.000000s total_train_loss: 6.73585655 val_loss: 7.88894767\n",
      "epochs [38/200]\n"
     ]
    },
    {
     "name": "stderr",
     "output_type": "stream",
     "text": [
      "100%|██████████| 123/123 [01:11<00:00,  1.73it/s]\n",
      "100%|██████████| 31/31 [00:11<00:00,  2.75it/s]\n",
      "  0%|          | 0/123 [00:00<?, ?it/s]"
     ]
    },
    {
     "name": "stdout",
     "output_type": "stream",
     "text": [
      "cost:82.000000s total_train_loss: 6.71349203 val_loss: 8.21824464\n",
      "epochs [39/200]\n"
     ]
    },
    {
     "name": "stderr",
     "output_type": "stream",
     "text": [
      "100%|██████████| 123/123 [01:10<00:00,  1.74it/s]\n",
      "100%|██████████| 31/31 [00:11<00:00,  2.69it/s]\n",
      "  0%|          | 0/123 [00:00<?, ?it/s]"
     ]
    },
    {
     "name": "stdout",
     "output_type": "stream",
     "text": [
      "cost:82.000000s total_train_loss: 6.64176188 val_loss: 8.47855237\n",
      "epochs [40/200]\n"
     ]
    },
    {
     "name": "stderr",
     "output_type": "stream",
     "text": [
      "100%|██████████| 123/123 [01:10<00:00,  1.74it/s]\n",
      "100%|██████████| 31/31 [00:11<00:00,  2.72it/s]\n"
     ]
    },
    {
     "name": "stdout",
     "output_type": "stream",
     "text": [
      "Saving Model in epoch 40\n"
     ]
    },
    {
     "name": "stderr",
     "output_type": "stream",
     "text": [
      "  0%|          | 0/123 [00:00<?, ?it/s]"
     ]
    },
    {
     "name": "stdout",
     "output_type": "stream",
     "text": [
      "cost:83.000000s total_train_loss: 6.55768461 val_loss: 7.79807269\n",
      "epochs [41/200]\n"
     ]
    },
    {
     "name": "stderr",
     "output_type": "stream",
     "text": [
      "100%|██████████| 123/123 [01:10<00:00,  1.74it/s]\n",
      "100%|██████████| 31/31 [00:11<00:00,  2.73it/s]\n",
      "  0%|          | 0/123 [00:00<?, ?it/s]"
     ]
    },
    {
     "name": "stdout",
     "output_type": "stream",
     "text": [
      "cost:82.000000s total_train_loss: 6.35543487 val_loss: 7.96654995\n",
      "epochs [42/200]\n"
     ]
    },
    {
     "name": "stderr",
     "output_type": "stream",
     "text": [
      "100%|██████████| 123/123 [01:10<00:00,  1.75it/s]\n",
      "100%|██████████| 31/31 [00:11<00:00,  2.76it/s]\n",
      "  0%|          | 0/123 [00:00<?, ?it/s]"
     ]
    },
    {
     "name": "stdout",
     "output_type": "stream",
     "text": [
      "cost:81.000000s total_train_loss: 6.29567556 val_loss: 8.08250883\n",
      "epochs [43/200]\n"
     ]
    },
    {
     "name": "stderr",
     "output_type": "stream",
     "text": [
      "100%|██████████| 123/123 [01:10<00:00,  1.76it/s]\n",
      "100%|██████████| 31/31 [00:11<00:00,  2.71it/s]\n",
      "  0%|          | 0/123 [00:00<?, ?it/s]"
     ]
    },
    {
     "name": "stdout",
     "output_type": "stream",
     "text": [
      "cost:81.000000s total_train_loss: 5.98968927 val_loss: 7.95722414\n",
      "epochs [44/200]\n"
     ]
    },
    {
     "name": "stderr",
     "output_type": "stream",
     "text": [
      "100%|██████████| 123/123 [01:09<00:00,  1.76it/s]\n",
      "100%|██████████| 31/31 [00:11<00:00,  2.66it/s]\n",
      "  0%|          | 0/123 [00:00<?, ?it/s]"
     ]
    },
    {
     "name": "stdout",
     "output_type": "stream",
     "text": [
      "cost:81.000000s total_train_loss: 6.07466241 val_loss: 7.85558822\n",
      "epochs [45/200]\n"
     ]
    },
    {
     "name": "stderr",
     "output_type": "stream",
     "text": [
      "100%|██████████| 123/123 [01:10<00:00,  1.74it/s]\n",
      "100%|██████████| 31/31 [00:11<00:00,  2.64it/s]\n",
      "  0%|          | 0/123 [00:00<?, ?it/s]"
     ]
    },
    {
     "name": "stdout",
     "output_type": "stream",
     "text": [
      "cost:82.000000s total_train_loss: 5.92522510 val_loss: 7.82959969\n",
      "epochs [46/200]\n"
     ]
    },
    {
     "name": "stderr",
     "output_type": "stream",
     "text": [
      "100%|██████████| 123/123 [01:10<00:00,  1.74it/s]\n",
      "100%|██████████| 31/31 [00:11<00:00,  2.71it/s]\n",
      "  0%|          | 0/123 [00:00<?, ?it/s]"
     ]
    },
    {
     "name": "stdout",
     "output_type": "stream",
     "text": [
      "cost:82.000000s total_train_loss: 5.81421479 val_loss: 7.87090860\n",
      "epochs [47/200]\n"
     ]
    },
    {
     "name": "stderr",
     "output_type": "stream",
     "text": [
      "100%|██████████| 123/123 [01:10<00:00,  1.75it/s]\n",
      "100%|██████████| 31/31 [00:11<00:00,  2.68it/s]\n",
      "  0%|          | 0/123 [00:00<?, ?it/s]"
     ]
    },
    {
     "name": "stdout",
     "output_type": "stream",
     "text": [
      "cost:81.000000s total_train_loss: 5.66771439 val_loss: 7.93309490\n",
      "epochs [48/200]\n"
     ]
    },
    {
     "name": "stderr",
     "output_type": "stream",
     "text": [
      "100%|██████████| 123/123 [01:11<00:00,  1.73it/s]\n",
      "100%|██████████| 31/31 [00:11<00:00,  2.73it/s]\n"
     ]
    },
    {
     "name": "stdout",
     "output_type": "stream",
     "text": [
      "Saving Model in epoch 48\n"
     ]
    },
    {
     "name": "stderr",
     "output_type": "stream",
     "text": [
      "  0%|          | 0/123 [00:00<?, ?it/s]"
     ]
    },
    {
     "name": "stdout",
     "output_type": "stream",
     "text": [
      "cost:84.000000s total_train_loss: 5.84825039 val_loss: 7.76130498\n",
      "epochs [49/200]\n"
     ]
    },
    {
     "name": "stderr",
     "output_type": "stream",
     "text": [
      "100%|██████████| 123/123 [01:10<00:00,  1.75it/s]\n",
      "100%|██████████| 31/31 [00:11<00:00,  2.70it/s]\n",
      "  0%|          | 0/123 [00:00<?, ?it/s]"
     ]
    },
    {
     "name": "stdout",
     "output_type": "stream",
     "text": [
      "cost:81.000000s total_train_loss: 5.49040843 val_loss: 7.79542563\n",
      "epochs [50/200]\n"
     ]
    },
    {
     "name": "stderr",
     "output_type": "stream",
     "text": [
      "100%|██████████| 123/123 [01:11<00:00,  1.73it/s]\n",
      "100%|██████████| 31/31 [00:11<00:00,  2.66it/s]\n",
      "  0%|          | 0/123 [00:00<?, ?it/s]"
     ]
    },
    {
     "name": "stdout",
     "output_type": "stream",
     "text": [
      "cost:82.000000s total_train_loss: 5.36701227 val_loss: 8.40084559\n",
      "epochs [51/200]\n"
     ]
    },
    {
     "name": "stderr",
     "output_type": "stream",
     "text": [
      "100%|██████████| 123/123 [01:10<00:00,  1.74it/s]\n",
      "100%|██████████| 31/31 [00:11<00:00,  2.67it/s]\n",
      "  0%|          | 0/123 [00:00<?, ?it/s]"
     ]
    },
    {
     "name": "stdout",
     "output_type": "stream",
     "text": [
      "cost:82.000000s total_train_loss: 5.57007266 val_loss: 8.49667971\n",
      "epochs [52/200]\n"
     ]
    },
    {
     "name": "stderr",
     "output_type": "stream",
     "text": [
      "100%|██████████| 123/123 [01:10<00:00,  1.74it/s]\n",
      "100%|██████████| 31/31 [00:11<00:00,  2.72it/s]\n"
     ]
    },
    {
     "name": "stdout",
     "output_type": "stream",
     "text": [
      "Saving Model in epoch 52\n"
     ]
    },
    {
     "name": "stderr",
     "output_type": "stream",
     "text": [
      "  0%|          | 0/123 [00:00<?, ?it/s]"
     ]
    },
    {
     "name": "stdout",
     "output_type": "stream",
     "text": [
      "cost:83.000000s total_train_loss: 5.23700085 val_loss: 7.71950194\n",
      "epochs [53/200]\n"
     ]
    },
    {
     "name": "stderr",
     "output_type": "stream",
     "text": [
      "100%|██████████| 123/123 [01:10<00:00,  1.74it/s]\n",
      "100%|██████████| 31/31 [00:11<00:00,  2.65it/s]\n"
     ]
    },
    {
     "name": "stdout",
     "output_type": "stream",
     "text": [
      "Saving Model in epoch 53\n"
     ]
    },
    {
     "name": "stderr",
     "output_type": "stream",
     "text": [
      "  0%|          | 0/123 [00:00<?, ?it/s]"
     ]
    },
    {
     "name": "stdout",
     "output_type": "stream",
     "text": [
      "cost:83.000000s total_train_loss: 5.04654518 val_loss: 7.71771305\n",
      "epochs [54/200]\n"
     ]
    },
    {
     "name": "stderr",
     "output_type": "stream",
     "text": [
      "100%|██████████| 123/123 [01:10<00:00,  1.75it/s]\n",
      "100%|██████████| 31/31 [00:11<00:00,  2.71it/s]\n"
     ]
    },
    {
     "name": "stdout",
     "output_type": "stream",
     "text": [
      "Saving Model in epoch 54\n"
     ]
    },
    {
     "name": "stderr",
     "output_type": "stream",
     "text": [
      "  0%|          | 0/123 [00:00<?, ?it/s]"
     ]
    },
    {
     "name": "stdout",
     "output_type": "stream",
     "text": [
      "cost:83.000000s total_train_loss: 5.02511548 val_loss: 7.63794997\n",
      "epochs [55/200]\n"
     ]
    },
    {
     "name": "stderr",
     "output_type": "stream",
     "text": [
      "100%|██████████| 123/123 [01:10<00:00,  1.74it/s]\n",
      "100%|██████████| 31/31 [00:11<00:00,  2.74it/s]\n",
      "  0%|          | 0/123 [00:00<?, ?it/s]"
     ]
    },
    {
     "name": "stdout",
     "output_type": "stream",
     "text": [
      "cost:82.000000s total_train_loss: 4.88425720 val_loss: 7.78574690\n",
      "epochs [56/200]\n"
     ]
    },
    {
     "name": "stderr",
     "output_type": "stream",
     "text": [
      "100%|██████████| 123/123 [01:11<00:00,  1.73it/s]\n",
      "100%|██████████| 31/31 [00:11<00:00,  2.75it/s]\n",
      "  0%|          | 0/123 [00:00<?, ?it/s]"
     ]
    },
    {
     "name": "stdout",
     "output_type": "stream",
     "text": [
      "cost:82.000000s total_train_loss: 4.79136324 val_loss: 7.83454389\n",
      "epochs [57/200]\n"
     ]
    },
    {
     "name": "stderr",
     "output_type": "stream",
     "text": [
      "100%|██████████| 123/123 [01:10<00:00,  1.74it/s]\n",
      "100%|██████████| 31/31 [00:11<00:00,  2.70it/s]\n"
     ]
    },
    {
     "name": "stdout",
     "output_type": "stream",
     "text": [
      "Saving Model in epoch 57\n"
     ]
    },
    {
     "name": "stderr",
     "output_type": "stream",
     "text": [
      "  0%|          | 0/123 [00:00<?, ?it/s]"
     ]
    },
    {
     "name": "stdout",
     "output_type": "stream",
     "text": [
      "cost:83.000000s total_train_loss: 4.71735916 val_loss: 7.49826281\n",
      "epochs [58/200]\n"
     ]
    },
    {
     "name": "stderr",
     "output_type": "stream",
     "text": [
      "100%|██████████| 123/123 [01:11<00:00,  1.73it/s]\n",
      "100%|██████████| 31/31 [00:11<00:00,  2.69it/s]\n",
      "  0%|          | 0/123 [00:00<?, ?it/s]"
     ]
    },
    {
     "name": "stdout",
     "output_type": "stream",
     "text": [
      "cost:82.000000s total_train_loss: 4.54146870 val_loss: 7.73750353\n",
      "epochs [59/200]\n"
     ]
    },
    {
     "name": "stderr",
     "output_type": "stream",
     "text": [
      "100%|██████████| 123/123 [01:10<00:00,  1.73it/s]\n",
      "100%|██████████| 31/31 [00:11<00:00,  2.66it/s]\n",
      "  0%|          | 0/123 [00:00<?, ?it/s]"
     ]
    },
    {
     "name": "stdout",
     "output_type": "stream",
     "text": [
      "cost:82.000000s total_train_loss: 4.82628177 val_loss: 7.58192215\n",
      "epochs [60/200]\n"
     ]
    },
    {
     "name": "stderr",
     "output_type": "stream",
     "text": [
      "100%|██████████| 123/123 [01:10<00:00,  1.74it/s]\n",
      "100%|██████████| 31/31 [00:11<00:00,  2.68it/s]\n",
      "  0%|          | 0/123 [00:00<?, ?it/s]"
     ]
    },
    {
     "name": "stdout",
     "output_type": "stream",
     "text": [
      "cost:82.000000s total_train_loss: 4.58396491 val_loss: 7.61317613\n",
      "epochs [61/200]\n"
     ]
    },
    {
     "name": "stderr",
     "output_type": "stream",
     "text": [
      "100%|██████████| 123/123 [01:10<00:00,  1.74it/s]\n",
      "100%|██████████| 31/31 [00:11<00:00,  2.66it/s]\n",
      "  0%|          | 0/123 [00:00<?, ?it/s]"
     ]
    },
    {
     "name": "stdout",
     "output_type": "stream",
     "text": [
      "cost:82.000000s total_train_loss: 4.63555838 val_loss: 8.03594248\n",
      "epochs [62/200]\n"
     ]
    },
    {
     "name": "stderr",
     "output_type": "stream",
     "text": [
      "100%|██████████| 123/123 [01:10<00:00,  1.75it/s]\n",
      "100%|██████████| 31/31 [00:11<00:00,  2.67it/s]\n",
      "  0%|          | 0/123 [00:00<?, ?it/s]"
     ]
    },
    {
     "name": "stdout",
     "output_type": "stream",
     "text": [
      "cost:82.000000s total_train_loss: 4.44293696 val_loss: 7.57516492\n",
      "epochs [63/200]\n"
     ]
    },
    {
     "name": "stderr",
     "output_type": "stream",
     "text": [
      "100%|██████████| 123/123 [01:10<00:00,  1.73it/s]\n",
      "100%|██████████| 31/31 [00:11<00:00,  2.74it/s]\n",
      "  0%|          | 0/123 [00:00<?, ?it/s]"
     ]
    },
    {
     "name": "stdout",
     "output_type": "stream",
     "text": [
      "cost:82.000000s total_train_loss: 4.30128234 val_loss: 7.86826161\n",
      "epochs [64/200]\n"
     ]
    },
    {
     "name": "stderr",
     "output_type": "stream",
     "text": [
      "100%|██████████| 123/123 [01:10<00:00,  1.75it/s]\n",
      "100%|██████████| 31/31 [00:11<00:00,  2.69it/s]\n"
     ]
    },
    {
     "name": "stdout",
     "output_type": "stream",
     "text": [
      "Saving Model in epoch 64\n"
     ]
    },
    {
     "name": "stderr",
     "output_type": "stream",
     "text": [
      "  0%|          | 0/123 [00:00<?, ?it/s]"
     ]
    },
    {
     "name": "stdout",
     "output_type": "stream",
     "text": [
      "cost:83.000000s total_train_loss: 4.37941427 val_loss: 7.37735928\n",
      "epochs [65/200]\n"
     ]
    },
    {
     "name": "stderr",
     "output_type": "stream",
     "text": [
      "100%|██████████| 123/123 [01:10<00:00,  1.75it/s]\n",
      "100%|██████████| 31/31 [00:11<00:00,  2.70it/s]\n",
      "  0%|          | 0/123 [00:00<?, ?it/s]"
     ]
    },
    {
     "name": "stdout",
     "output_type": "stream",
     "text": [
      "cost:81.000000s total_train_loss: 4.05755673 val_loss: 7.60262076\n",
      "epochs [66/200]\n"
     ]
    },
    {
     "name": "stderr",
     "output_type": "stream",
     "text": [
      "100%|██████████| 123/123 [01:11<00:00,  1.73it/s]\n",
      "100%|██████████| 31/31 [00:11<00:00,  2.69it/s]\n",
      "  0%|          | 0/123 [00:00<?, ?it/s]"
     ]
    },
    {
     "name": "stdout",
     "output_type": "stream",
     "text": [
      "cost:82.000000s total_train_loss: 4.05989269 val_loss: 7.71652182\n",
      "epochs [67/200]\n"
     ]
    },
    {
     "name": "stderr",
     "output_type": "stream",
     "text": [
      "100%|██████████| 123/123 [01:10<00:00,  1.73it/s]\n",
      "100%|██████████| 31/31 [00:11<00:00,  2.68it/s]\n",
      "  0%|          | 0/123 [00:00<?, ?it/s]"
     ]
    },
    {
     "name": "stdout",
     "output_type": "stream",
     "text": [
      "cost:82.000000s total_train_loss: 4.08258036 val_loss: 7.49548764\n",
      "epochs [68/200]\n"
     ]
    },
    {
     "name": "stderr",
     "output_type": "stream",
     "text": [
      "100%|██████████| 123/123 [01:10<00:00,  1.73it/s]\n",
      "100%|██████████| 31/31 [00:11<00:00,  2.68it/s]\n",
      "  0%|          | 0/123 [00:00<?, ?it/s]"
     ]
    },
    {
     "name": "stdout",
     "output_type": "stream",
     "text": [
      "cost:82.000000s total_train_loss: 3.86576045 val_loss: 7.86806099\n",
      "epochs [69/200]\n"
     ]
    },
    {
     "name": "stderr",
     "output_type": "stream",
     "text": [
      "100%|██████████| 123/123 [01:10<00:00,  1.75it/s]\n",
      "100%|██████████| 31/31 [00:11<00:00,  2.69it/s]\n",
      "  0%|          | 0/123 [00:00<?, ?it/s]"
     ]
    },
    {
     "name": "stdout",
     "output_type": "stream",
     "text": [
      "cost:81.000000s total_train_loss: 4.03476500 val_loss: 7.55926440\n",
      "epochs [70/200]\n"
     ]
    },
    {
     "name": "stderr",
     "output_type": "stream",
     "text": [
      "100%|██████████| 123/123 [01:11<00:00,  1.73it/s]\n",
      "100%|██████████| 31/31 [00:11<00:00,  2.70it/s]\n",
      "  0%|          | 0/123 [00:00<?, ?it/s]"
     ]
    },
    {
     "name": "stdout",
     "output_type": "stream",
     "text": [
      "cost:82.000000s total_train_loss: 3.92428248 val_loss: 7.49559578\n",
      "epochs [71/200]\n"
     ]
    },
    {
     "name": "stderr",
     "output_type": "stream",
     "text": [
      "100%|██████████| 123/123 [01:11<00:00,  1.73it/s]\n",
      "100%|██████████| 31/31 [00:11<00:00,  2.69it/s]\n",
      "  0%|          | 0/123 [00:00<?, ?it/s]"
     ]
    },
    {
     "name": "stdout",
     "output_type": "stream",
     "text": [
      "cost:82.000000s total_train_loss: 3.93230059 val_loss: 7.43745828\n",
      "epochs [72/200]\n"
     ]
    },
    {
     "name": "stderr",
     "output_type": "stream",
     "text": [
      "100%|██████████| 123/123 [01:10<00:00,  1.74it/s]\n",
      "100%|██████████| 31/31 [00:11<00:00,  2.65it/s]\n",
      "  0%|          | 0/123 [00:00<?, ?it/s]"
     ]
    },
    {
     "name": "stdout",
     "output_type": "stream",
     "text": [
      "cost:82.000000s total_train_loss: 3.77088031 val_loss: 7.50305631\n",
      "epochs [73/200]\n"
     ]
    },
    {
     "name": "stderr",
     "output_type": "stream",
     "text": [
      "100%|██████████| 123/123 [01:10<00:00,  1.74it/s]\n",
      "100%|██████████| 31/31 [00:11<00:00,  2.63it/s]\n",
      "  0%|          | 0/123 [00:00<?, ?it/s]"
     ]
    },
    {
     "name": "stdout",
     "output_type": "stream",
     "text": [
      "cost:82.000000s total_train_loss: 3.65721856 val_loss: 7.74699279\n",
      "epochs [74/200]\n"
     ]
    },
    {
     "name": "stderr",
     "output_type": "stream",
     "text": [
      "100%|██████████| 123/123 [01:10<00:00,  1.74it/s]\n",
      "100%|██████████| 31/31 [00:11<00:00,  2.76it/s]\n"
     ]
    },
    {
     "name": "stdout",
     "output_type": "stream",
     "text": [
      "Saving Model in epoch 74\n"
     ]
    },
    {
     "name": "stderr",
     "output_type": "stream",
     "text": [
      "  0%|          | 0/123 [00:00<?, ?it/s]"
     ]
    },
    {
     "name": "stdout",
     "output_type": "stream",
     "text": [
      "cost:83.000000s total_train_loss: 3.44223802 val_loss: 7.33735643\n",
      "epochs [75/200]\n"
     ]
    },
    {
     "name": "stderr",
     "output_type": "stream",
     "text": [
      "100%|██████████| 123/123 [01:11<00:00,  1.73it/s]\n",
      "100%|██████████| 31/31 [00:11<00:00,  2.67it/s]\n",
      "  0%|          | 0/123 [00:00<?, ?it/s]"
     ]
    },
    {
     "name": "stdout",
     "output_type": "stream",
     "text": [
      "cost:82.000000s total_train_loss: 3.46908072 val_loss: 7.37780031\n",
      "epochs [76/200]\n"
     ]
    },
    {
     "name": "stderr",
     "output_type": "stream",
     "text": [
      "100%|██████████| 123/123 [01:10<00:00,  1.74it/s]\n",
      "100%|██████████| 31/31 [00:11<00:00,  2.69it/s]\n"
     ]
    },
    {
     "name": "stdout",
     "output_type": "stream",
     "text": [
      "Saving Model in epoch 76\n"
     ]
    },
    {
     "name": "stderr",
     "output_type": "stream",
     "text": [
      "  0%|          | 0/123 [00:00<?, ?it/s]"
     ]
    },
    {
     "name": "stdout",
     "output_type": "stream",
     "text": [
      "cost:83.000000s total_train_loss: 3.32306736 val_loss: 7.33646994\n",
      "epochs [77/200]\n"
     ]
    },
    {
     "name": "stderr",
     "output_type": "stream",
     "text": [
      "100%|██████████| 123/123 [01:10<00:00,  1.73it/s]\n",
      "100%|██████████| 31/31 [00:11<00:00,  2.72it/s]\n"
     ]
    },
    {
     "name": "stdout",
     "output_type": "stream",
     "text": [
      "Saving Model in epoch 77\n"
     ]
    },
    {
     "name": "stderr",
     "output_type": "stream",
     "text": [
      "  0%|          | 0/123 [00:00<?, ?it/s]"
     ]
    },
    {
     "name": "stdout",
     "output_type": "stream",
     "text": [
      "cost:83.000000s total_train_loss: 3.27699669 val_loss: 7.26948227\n",
      "epochs [78/200]\n"
     ]
    },
    {
     "name": "stderr",
     "output_type": "stream",
     "text": [
      "100%|██████████| 123/123 [01:10<00:00,  1.73it/s]\n",
      "100%|██████████| 31/31 [00:11<00:00,  2.71it/s]\n",
      "  0%|          | 0/123 [00:00<?, ?it/s]"
     ]
    },
    {
     "name": "stdout",
     "output_type": "stream",
     "text": [
      "cost:82.000000s total_train_loss: 3.23650285 val_loss: 8.34706011\n",
      "epochs [79/200]\n"
     ]
    },
    {
     "name": "stderr",
     "output_type": "stream",
     "text": [
      "100%|██████████| 123/123 [01:11<00:00,  1.72it/s]\n",
      "100%|██████████| 31/31 [00:11<00:00,  2.72it/s]\n",
      "  0%|          | 0/123 [00:00<?, ?it/s]"
     ]
    },
    {
     "name": "stdout",
     "output_type": "stream",
     "text": [
      "cost:82.000000s total_train_loss: 3.64239623 val_loss: 7.40529067\n",
      "epochs [80/200]\n"
     ]
    },
    {
     "name": "stderr",
     "output_type": "stream",
     "text": [
      "100%|██████████| 123/123 [01:10<00:00,  1.74it/s]\n",
      "100%|██████████| 31/31 [00:11<00:00,  2.68it/s]\n"
     ]
    },
    {
     "name": "stdout",
     "output_type": "stream",
     "text": [
      "Saving Model in epoch 80\n"
     ]
    },
    {
     "name": "stderr",
     "output_type": "stream",
     "text": [
      "  0%|          | 0/123 [00:00<?, ?it/s]"
     ]
    },
    {
     "name": "stdout",
     "output_type": "stream",
     "text": [
      "cost:83.000000s total_train_loss: 3.15766061 val_loss: 7.18980826\n",
      "epochs [81/200]\n"
     ]
    },
    {
     "name": "stderr",
     "output_type": "stream",
     "text": [
      "100%|██████████| 123/123 [01:10<00:00,  1.74it/s]\n",
      "100%|██████████| 31/31 [00:11<00:00,  2.68it/s]\n",
      "  0%|          | 0/123 [00:00<?, ?it/s]"
     ]
    },
    {
     "name": "stdout",
     "output_type": "stream",
     "text": [
      "cost:82.000000s total_train_loss: 3.06362091 val_loss: 7.28408401\n",
      "epochs [82/200]\n"
     ]
    },
    {
     "name": "stderr",
     "output_type": "stream",
     "text": [
      "100%|██████████| 123/123 [01:11<00:00,  1.73it/s]\n",
      "100%|██████████| 31/31 [00:11<00:00,  2.72it/s]\n",
      "  0%|          | 0/123 [00:00<?, ?it/s]"
     ]
    },
    {
     "name": "stdout",
     "output_type": "stream",
     "text": [
      "cost:82.000000s total_train_loss: 3.11966301 val_loss: 7.30187559\n",
      "epochs [83/200]\n"
     ]
    },
    {
     "name": "stderr",
     "output_type": "stream",
     "text": [
      "100%|██████████| 123/123 [01:10<00:00,  1.74it/s]\n",
      "100%|██████████| 31/31 [00:11<00:00,  2.65it/s]\n",
      "  0%|          | 0/123 [00:00<?, ?it/s]"
     ]
    },
    {
     "name": "stdout",
     "output_type": "stream",
     "text": [
      "cost:82.000000s total_train_loss: 3.06858512 val_loss: 7.35968450\n",
      "epochs [84/200]\n"
     ]
    },
    {
     "name": "stderr",
     "output_type": "stream",
     "text": [
      "100%|██████████| 123/123 [01:11<00:00,  1.73it/s]\n",
      "100%|██████████| 31/31 [00:11<00:00,  2.72it/s]\n",
      "  0%|          | 0/123 [00:00<?, ?it/s]"
     ]
    },
    {
     "name": "stdout",
     "output_type": "stream",
     "text": [
      "cost:82.000000s total_train_loss: 3.10290716 val_loss: 7.60612428\n",
      "epochs [85/200]\n"
     ]
    },
    {
     "name": "stderr",
     "output_type": "stream",
     "text": [
      "100%|██████████| 123/123 [01:10<00:00,  1.74it/s]\n",
      "100%|██████████| 31/31 [00:11<00:00,  2.70it/s]\n",
      "  0%|          | 0/123 [00:00<?, ?it/s]"
     ]
    },
    {
     "name": "stdout",
     "output_type": "stream",
     "text": [
      "cost:82.000000s total_train_loss: 3.19591950 val_loss: 7.23908307\n",
      "epochs [86/200]\n"
     ]
    },
    {
     "name": "stderr",
     "output_type": "stream",
     "text": [
      "100%|██████████| 123/123 [01:10<00:00,  1.74it/s]\n",
      "100%|██████████| 31/31 [00:11<00:00,  2.67it/s]\n",
      "  0%|          | 0/123 [00:00<?, ?it/s]"
     ]
    },
    {
     "name": "stdout",
     "output_type": "stream",
     "text": [
      "cost:82.000000s total_train_loss: 2.85015758 val_loss: 7.27800442\n",
      "epochs [87/200]\n"
     ]
    },
    {
     "name": "stderr",
     "output_type": "stream",
     "text": [
      "100%|██████████| 123/123 [01:10<00:00,  1.75it/s]\n",
      "100%|██████████| 31/31 [00:11<00:00,  2.69it/s]\n",
      "  0%|          | 0/123 [00:00<?, ?it/s]"
     ]
    },
    {
     "name": "stdout",
     "output_type": "stream",
     "text": [
      "cost:81.000000s total_train_loss: 2.98229205 val_loss: 7.62096980\n",
      "epochs [88/200]\n"
     ]
    },
    {
     "name": "stderr",
     "output_type": "stream",
     "text": [
      "100%|██████████| 123/123 [01:10<00:00,  1.74it/s]\n",
      "100%|██████████| 31/31 [00:11<00:00,  2.74it/s]\n",
      "  0%|          | 0/123 [00:00<?, ?it/s]"
     ]
    },
    {
     "name": "stdout",
     "output_type": "stream",
     "text": [
      "cost:82.000000s total_train_loss: 2.88162338 val_loss: 7.28295712\n",
      "epochs [89/200]\n"
     ]
    },
    {
     "name": "stderr",
     "output_type": "stream",
     "text": [
      "100%|██████████| 123/123 [01:11<00:00,  1.73it/s]\n",
      "100%|██████████| 31/31 [00:11<00:00,  2.69it/s]\n",
      "  0%|          | 0/123 [00:00<?, ?it/s]"
     ]
    },
    {
     "name": "stdout",
     "output_type": "stream",
     "text": [
      "cost:82.000000s total_train_loss: 2.99374673 val_loss: 7.23710272\n",
      "epochs [90/200]\n"
     ]
    },
    {
     "name": "stderr",
     "output_type": "stream",
     "text": [
      "100%|██████████| 123/123 [01:10<00:00,  1.74it/s]\n",
      "100%|██████████| 31/31 [00:11<00:00,  2.71it/s]\n"
     ]
    },
    {
     "name": "stdout",
     "output_type": "stream",
     "text": [
      "Saving Model in epoch 90\n"
     ]
    },
    {
     "name": "stderr",
     "output_type": "stream",
     "text": [
      "  0%|          | 0/123 [00:00<?, ?it/s]"
     ]
    },
    {
     "name": "stdout",
     "output_type": "stream",
     "text": [
      "cost:83.000000s total_train_loss: 2.76539453 val_loss: 7.08668110\n",
      "epochs [91/200]\n"
     ]
    },
    {
     "name": "stderr",
     "output_type": "stream",
     "text": [
      "100%|██████████| 123/123 [01:10<00:00,  1.75it/s]\n",
      "100%|██████████| 31/31 [00:11<00:00,  2.70it/s]\n",
      "  0%|          | 0/123 [00:00<?, ?it/s]"
     ]
    },
    {
     "name": "stdout",
     "output_type": "stream",
     "text": [
      "cost:81.000000s total_train_loss: 2.77883718 val_loss: 7.12611603\n",
      "epochs [92/200]\n"
     ]
    },
    {
     "name": "stderr",
     "output_type": "stream",
     "text": [
      "100%|██████████| 123/123 [01:10<00:00,  1.73it/s]\n",
      "100%|██████████| 31/31 [00:11<00:00,  2.70it/s]\n",
      "  0%|          | 0/123 [00:00<?, ?it/s]"
     ]
    },
    {
     "name": "stdout",
     "output_type": "stream",
     "text": [
      "cost:82.000000s total_train_loss: 2.76950161 val_loss: 8.02908525\n",
      "epochs [93/200]\n"
     ]
    },
    {
     "name": "stderr",
     "output_type": "stream",
     "text": [
      "100%|██████████| 123/123 [01:11<00:00,  1.73it/s]\n",
      "100%|██████████| 31/31 [00:11<00:00,  2.72it/s]\n",
      "  0%|          | 0/123 [00:00<?, ?it/s]"
     ]
    },
    {
     "name": "stdout",
     "output_type": "stream",
     "text": [
      "cost:82.000000s total_train_loss: 3.01469623 val_loss: 7.26552316\n",
      "epochs [94/200]\n"
     ]
    },
    {
     "name": "stderr",
     "output_type": "stream",
     "text": [
      "100%|██████████| 123/123 [01:10<00:00,  1.73it/s]\n",
      "100%|██████████| 31/31 [00:11<00:00,  2.64it/s]\n",
      "  0%|          | 0/123 [00:00<?, ?it/s]"
     ]
    },
    {
     "name": "stdout",
     "output_type": "stream",
     "text": [
      "cost:82.000000s total_train_loss: 2.96088247 val_loss: 7.22907700\n",
      "epochs [95/200]\n"
     ]
    },
    {
     "name": "stderr",
     "output_type": "stream",
     "text": [
      "100%|██████████| 123/123 [01:10<00:00,  1.74it/s]\n",
      "100%|██████████| 31/31 [00:11<00:00,  2.66it/s]\n",
      "  0%|          | 0/123 [00:00<?, ?it/s]"
     ]
    },
    {
     "name": "stdout",
     "output_type": "stream",
     "text": [
      "cost:82.000000s total_train_loss: 2.78733867 val_loss: 7.19874037\n",
      "epochs [96/200]\n"
     ]
    },
    {
     "name": "stderr",
     "output_type": "stream",
     "text": [
      "100%|██████████| 123/123 [01:10<00:00,  1.74it/s]\n",
      "100%|██████████| 31/31 [00:11<00:00,  2.72it/s]\n",
      "  0%|          | 0/123 [00:00<?, ?it/s]"
     ]
    },
    {
     "name": "stdout",
     "output_type": "stream",
     "text": [
      "cost:82.000000s total_train_loss: 2.79852724 val_loss: 7.24533835\n",
      "epochs [97/200]\n"
     ]
    },
    {
     "name": "stderr",
     "output_type": "stream",
     "text": [
      "100%|██████████| 123/123 [01:10<00:00,  1.74it/s]\n",
      "100%|██████████| 31/31 [00:11<00:00,  2.71it/s]\n",
      "  0%|          | 0/123 [00:00<?, ?it/s]"
     ]
    },
    {
     "name": "stdout",
     "output_type": "stream",
     "text": [
      "cost:82.000000s total_train_loss: 2.78915897 val_loss: 7.19976739\n",
      "epochs [98/200]\n"
     ]
    },
    {
     "name": "stderr",
     "output_type": "stream",
     "text": [
      "100%|██████████| 123/123 [01:10<00:00,  1.75it/s]\n",
      "100%|██████████| 31/31 [00:11<00:00,  2.69it/s]\n",
      "  0%|          | 0/123 [00:00<?, ?it/s]"
     ]
    },
    {
     "name": "stdout",
     "output_type": "stream",
     "text": [
      "cost:81.000000s total_train_loss: 2.68109544 val_loss: 7.22532832\n",
      "epochs [99/200]\n"
     ]
    },
    {
     "name": "stderr",
     "output_type": "stream",
     "text": [
      "100%|██████████| 123/123 [01:10<00:00,  1.74it/s]\n",
      "100%|██████████| 31/31 [00:11<00:00,  2.74it/s]\n",
      "  0%|          | 0/123 [00:00<?, ?it/s]"
     ]
    },
    {
     "name": "stdout",
     "output_type": "stream",
     "text": [
      "cost:81.000000s total_train_loss: 2.59389349 val_loss: 7.14388058\n",
      "epochs [100/200]\n"
     ]
    },
    {
     "name": "stderr",
     "output_type": "stream",
     "text": [
      "100%|██████████| 123/123 [01:10<00:00,  1.74it/s]\n",
      "100%|██████████| 31/31 [00:11<00:00,  2.71it/s]\n",
      "  0%|          | 0/123 [00:00<?, ?it/s]"
     ]
    },
    {
     "name": "stdout",
     "output_type": "stream",
     "text": [
      "cost:82.000000s total_train_loss: 2.70099236 val_loss: 7.23339047\n",
      "epochs [101/200]\n"
     ]
    },
    {
     "name": "stderr",
     "output_type": "stream",
     "text": [
      "100%|██████████| 123/123 [01:10<00:00,  1.75it/s]\n",
      "100%|██████████| 31/31 [00:11<00:00,  2.70it/s]\n",
      "  0%|          | 0/123 [00:00<?, ?it/s]"
     ]
    },
    {
     "name": "stdout",
     "output_type": "stream",
     "text": [
      "cost:81.000000s total_train_loss: 2.69594718 val_loss: 7.14827098\n",
      "epochs [102/200]\n"
     ]
    },
    {
     "name": "stderr",
     "output_type": "stream",
     "text": [
      "100%|██████████| 123/123 [01:10<00:00,  1.75it/s]\n",
      "100%|██████████| 31/31 [00:11<00:00,  2.75it/s]\n",
      "  0%|          | 0/123 [00:00<?, ?it/s]"
     ]
    },
    {
     "name": "stdout",
     "output_type": "stream",
     "text": [
      "cost:81.000000s total_train_loss: 2.52758548 val_loss: 7.15362110\n",
      "epochs [103/200]\n"
     ]
    },
    {
     "name": "stderr",
     "output_type": "stream",
     "text": [
      "100%|██████████| 123/123 [01:10<00:00,  1.74it/s]\n",
      "100%|██████████| 31/31 [00:11<00:00,  2.66it/s]\n"
     ]
    },
    {
     "name": "stdout",
     "output_type": "stream",
     "text": [
      "Saving Model in epoch 103\n"
     ]
    },
    {
     "name": "stderr",
     "output_type": "stream",
     "text": [
      "  0%|          | 0/123 [00:00<?, ?it/s]"
     ]
    },
    {
     "name": "stdout",
     "output_type": "stream",
     "text": [
      "cost:83.000000s total_train_loss: 2.50323787 val_loss: 7.06651166\n",
      "epochs [104/200]\n"
     ]
    },
    {
     "name": "stderr",
     "output_type": "stream",
     "text": [
      "100%|██████████| 123/123 [01:10<00:00,  1.74it/s]\n",
      "100%|██████████| 31/31 [00:11<00:00,  2.68it/s]\n"
     ]
    },
    {
     "name": "stdout",
     "output_type": "stream",
     "text": [
      "Saving Model in epoch 104\n"
     ]
    },
    {
     "name": "stderr",
     "output_type": "stream",
     "text": [
      "  0%|          | 0/123 [00:00<?, ?it/s]"
     ]
    },
    {
     "name": "stdout",
     "output_type": "stream",
     "text": [
      "cost:83.000000s total_train_loss: 2.71654475 val_loss: 7.05685865\n",
      "epochs [105/200]\n"
     ]
    },
    {
     "name": "stderr",
     "output_type": "stream",
     "text": [
      "100%|██████████| 123/123 [01:10<00:00,  1.75it/s]\n",
      "100%|██████████| 31/31 [00:11<00:00,  2.67it/s]\n"
     ]
    },
    {
     "name": "stdout",
     "output_type": "stream",
     "text": [
      "Saving Model in epoch 105\n"
     ]
    },
    {
     "name": "stderr",
     "output_type": "stream",
     "text": [
      "  0%|          | 0/123 [00:00<?, ?it/s]"
     ]
    },
    {
     "name": "stdout",
     "output_type": "stream",
     "text": [
      "cost:83.000000s total_train_loss: 2.57953310 val_loss: 7.05608865\n",
      "epochs [106/200]\n"
     ]
    },
    {
     "name": "stderr",
     "output_type": "stream",
     "text": [
      "100%|██████████| 123/123 [01:10<00:00,  1.76it/s]\n",
      "100%|██████████| 31/31 [00:11<00:00,  2.78it/s]\n",
      "  0%|          | 0/123 [00:00<?, ?it/s]"
     ]
    },
    {
     "name": "stdout",
     "output_type": "stream",
     "text": [
      "cost:81.000000s total_train_loss: 3.03111110 val_loss: 7.35654932\n",
      "epochs [107/200]\n"
     ]
    },
    {
     "name": "stderr",
     "output_type": "stream",
     "text": [
      "100%|██████████| 123/123 [01:10<00:00,  1.74it/s]\n",
      "100%|██████████| 31/31 [00:11<00:00,  2.71it/s]\n",
      "  0%|          | 0/123 [00:00<?, ?it/s]"
     ]
    },
    {
     "name": "stdout",
     "output_type": "stream",
     "text": [
      "cost:82.000000s total_train_loss: 3.16545017 val_loss: 7.42070999\n",
      "epochs [108/200]\n"
     ]
    },
    {
     "name": "stderr",
     "output_type": "stream",
     "text": [
      "100%|██████████| 123/123 [01:10<00:00,  1.74it/s]\n",
      "100%|██████████| 31/31 [00:11<00:00,  2.69it/s]\n",
      "  0%|          | 0/123 [00:00<?, ?it/s]"
     ]
    },
    {
     "name": "stdout",
     "output_type": "stream",
     "text": [
      "cost:82.000000s total_train_loss: 3.02575011 val_loss: 7.20677004\n",
      "epochs [109/200]\n"
     ]
    },
    {
     "name": "stderr",
     "output_type": "stream",
     "text": [
      "100%|██████████| 123/123 [01:11<00:00,  1.73it/s]\n",
      "100%|██████████| 31/31 [00:11<00:00,  2.79it/s]\n"
     ]
    },
    {
     "name": "stdout",
     "output_type": "stream",
     "text": [
      "Saving Model in epoch 109\n"
     ]
    },
    {
     "name": "stderr",
     "output_type": "stream",
     "text": [
      "  0%|          | 0/123 [00:00<?, ?it/s]"
     ]
    },
    {
     "name": "stdout",
     "output_type": "stream",
     "text": [
      "cost:83.000000s total_train_loss: 2.98614744 val_loss: 6.99811331\n",
      "epochs [110/200]\n"
     ]
    },
    {
     "name": "stderr",
     "output_type": "stream",
     "text": [
      "100%|██████████| 123/123 [01:11<00:00,  1.73it/s]\n",
      "100%|██████████| 31/31 [00:11<00:00,  2.62it/s]\n",
      "  0%|          | 0/123 [00:00<?, ?it/s]"
     ]
    },
    {
     "name": "stdout",
     "output_type": "stream",
     "text": [
      "cost:82.000000s total_train_loss: 2.96500527 val_loss: 7.13865040\n",
      "epochs [111/200]\n"
     ]
    },
    {
     "name": "stderr",
     "output_type": "stream",
     "text": [
      "100%|██████████| 123/123 [01:10<00:00,  1.73it/s]\n",
      "100%|██████████| 31/31 [00:11<00:00,  2.67it/s]\n",
      "  0%|          | 0/123 [00:00<?, ?it/s]"
     ]
    },
    {
     "name": "stdout",
     "output_type": "stream",
     "text": [
      "cost:82.000000s total_train_loss: 2.85154265 val_loss: 7.16881611\n",
      "epochs [112/200]\n"
     ]
    },
    {
     "name": "stderr",
     "output_type": "stream",
     "text": [
      "100%|██████████| 123/123 [01:10<00:00,  1.73it/s]\n",
      "100%|██████████| 31/31 [00:11<00:00,  2.67it/s]\n",
      "  0%|          | 0/123 [00:00<?, ?it/s]"
     ]
    },
    {
     "name": "stdout",
     "output_type": "stream",
     "text": [
      "cost:82.000000s total_train_loss: 2.72247722 val_loss: 7.10253300\n",
      "epochs [113/200]\n"
     ]
    },
    {
     "name": "stderr",
     "output_type": "stream",
     "text": [
      "100%|██████████| 123/123 [01:10<00:00,  1.73it/s]\n",
      "100%|██████████| 31/31 [00:11<00:00,  2.67it/s]\n",
      "  0%|          | 0/123 [00:00<?, ?it/s]"
     ]
    },
    {
     "name": "stdout",
     "output_type": "stream",
     "text": [
      "cost:82.000000s total_train_loss: 2.74100995 val_loss: 7.23521828\n",
      "epochs [114/200]\n"
     ]
    },
    {
     "name": "stderr",
     "output_type": "stream",
     "text": [
      "100%|██████████| 123/123 [01:10<00:00,  1.74it/s]\n",
      "100%|██████████| 31/31 [00:11<00:00,  2.67it/s]\n",
      "  0%|          | 0/123 [00:00<?, ?it/s]"
     ]
    },
    {
     "name": "stdout",
     "output_type": "stream",
     "text": [
      "cost:82.000000s total_train_loss: 2.59157750 val_loss: 7.02839319\n",
      "epochs [115/200]\n"
     ]
    },
    {
     "name": "stderr",
     "output_type": "stream",
     "text": [
      "100%|██████████| 123/123 [01:11<00:00,  1.73it/s]\n",
      "100%|██████████| 31/31 [00:11<00:00,  2.69it/s]\n"
     ]
    },
    {
     "name": "stdout",
     "output_type": "stream",
     "text": [
      "Saving Model in epoch 115\n"
     ]
    },
    {
     "name": "stderr",
     "output_type": "stream",
     "text": [
      "  0%|          | 0/123 [00:00<?, ?it/s]"
     ]
    },
    {
     "name": "stdout",
     "output_type": "stream",
     "text": [
      "cost:84.000000s total_train_loss: 2.51458359 val_loss: 6.95566208\n",
      "epochs [116/200]\n"
     ]
    },
    {
     "name": "stderr",
     "output_type": "stream",
     "text": [
      "100%|██████████| 123/123 [01:10<00:00,  1.74it/s]\n",
      "100%|██████████| 31/31 [00:11<00:00,  2.68it/s]\n"
     ]
    },
    {
     "name": "stdout",
     "output_type": "stream",
     "text": [
      "Saving Model in epoch 116\n"
     ]
    },
    {
     "name": "stderr",
     "output_type": "stream",
     "text": [
      "  0%|          | 0/123 [00:00<?, ?it/s]"
     ]
    },
    {
     "name": "stdout",
     "output_type": "stream",
     "text": [
      "cost:83.000000s total_train_loss: 2.59746503 val_loss: 6.94808683\n",
      "epochs [117/200]\n"
     ]
    },
    {
     "name": "stderr",
     "output_type": "stream",
     "text": [
      "100%|██████████| 123/123 [01:10<00:00,  1.73it/s]\n",
      "100%|██████████| 31/31 [00:11<00:00,  2.68it/s]\n",
      "  0%|          | 0/123 [00:00<?, ?it/s]"
     ]
    },
    {
     "name": "stdout",
     "output_type": "stream",
     "text": [
      "cost:82.000000s total_train_loss: 2.60333318 val_loss: 7.01506413\n",
      "epochs [118/200]\n"
     ]
    },
    {
     "name": "stderr",
     "output_type": "stream",
     "text": [
      "100%|██████████| 123/123 [01:10<00:00,  1.74it/s]\n",
      "100%|██████████| 31/31 [00:11<00:00,  2.68it/s]\n",
      "  0%|          | 0/123 [00:00<?, ?it/s]"
     ]
    },
    {
     "name": "stdout",
     "output_type": "stream",
     "text": [
      "cost:82.000000s total_train_loss: 2.63157476 val_loss: 6.97812806\n",
      "epochs [119/200]\n"
     ]
    },
    {
     "name": "stderr",
     "output_type": "stream",
     "text": [
      "100%|██████████| 123/123 [01:10<00:00,  1.74it/s]\n",
      "100%|██████████| 31/31 [00:11<00:00,  2.72it/s]\n",
      "  0%|          | 0/123 [00:00<?, ?it/s]"
     ]
    },
    {
     "name": "stdout",
     "output_type": "stream",
     "text": [
      "cost:81.000000s total_train_loss: 2.47267512 val_loss: 6.96518584\n",
      "epochs [120/200]\n"
     ]
    },
    {
     "name": "stderr",
     "output_type": "stream",
     "text": [
      "100%|██████████| 123/123 [01:10<00:00,  1.73it/s]\n",
      "100%|██████████| 31/31 [00:11<00:00,  2.68it/s]\n"
     ]
    },
    {
     "name": "stdout",
     "output_type": "stream",
     "text": [
      "Saving Model in epoch 120\n"
     ]
    },
    {
     "name": "stderr",
     "output_type": "stream",
     "text": [
      "  0%|          | 0/123 [00:00<?, ?it/s]"
     ]
    },
    {
     "name": "stdout",
     "output_type": "stream",
     "text": [
      "cost:84.000000s total_train_loss: 2.51050150 val_loss: 6.90215358\n",
      "epochs [121/200]\n"
     ]
    },
    {
     "name": "stderr",
     "output_type": "stream",
     "text": [
      "100%|██████████| 123/123 [01:10<00:00,  1.74it/s]\n",
      "100%|██████████| 31/31 [00:11<00:00,  2.77it/s]\n"
     ]
    },
    {
     "name": "stdout",
     "output_type": "stream",
     "text": [
      "Saving Model in epoch 121\n"
     ]
    },
    {
     "name": "stderr",
     "output_type": "stream",
     "text": [
      "  0%|          | 0/123 [00:00<?, ?it/s]"
     ]
    },
    {
     "name": "stdout",
     "output_type": "stream",
     "text": [
      "cost:83.000000s total_train_loss: 2.43108807 val_loss: 6.85136970\n",
      "epochs [122/200]\n"
     ]
    },
    {
     "name": "stderr",
     "output_type": "stream",
     "text": [
      "100%|██████████| 123/123 [01:10<00:00,  1.75it/s]\n",
      "100%|██████████| 31/31 [00:11<00:00,  2.69it/s]\n",
      "  0%|          | 0/123 [00:00<?, ?it/s]"
     ]
    },
    {
     "name": "stdout",
     "output_type": "stream",
     "text": [
      "cost:81.000000s total_train_loss: 2.32923790 val_loss: 6.94030822\n",
      "epochs [123/200]\n"
     ]
    },
    {
     "name": "stderr",
     "output_type": "stream",
     "text": [
      "100%|██████████| 123/123 [01:10<00:00,  1.74it/s]\n",
      "100%|██████████| 31/31 [00:11<00:00,  2.67it/s]\n",
      "  0%|          | 0/123 [00:00<?, ?it/s]"
     ]
    },
    {
     "name": "stdout",
     "output_type": "stream",
     "text": [
      "cost:82.000000s total_train_loss: 2.37417413 val_loss: 6.99365222\n",
      "epochs [124/200]\n"
     ]
    },
    {
     "name": "stderr",
     "output_type": "stream",
     "text": [
      "100%|██████████| 123/123 [01:10<00:00,  1.74it/s]\n",
      "100%|██████████| 31/31 [00:11<00:00,  2.62it/s]\n"
     ]
    },
    {
     "name": "stdout",
     "output_type": "stream",
     "text": [
      "Saving Model in epoch 124\n"
     ]
    },
    {
     "name": "stderr",
     "output_type": "stream",
     "text": [
      "  0%|          | 0/123 [00:00<?, ?it/s]"
     ]
    },
    {
     "name": "stdout",
     "output_type": "stream",
     "text": [
      "cost:84.000000s total_train_loss: 2.41387727 val_loss: 6.79713511\n",
      "epochs [125/200]\n"
     ]
    },
    {
     "name": "stderr",
     "output_type": "stream",
     "text": [
      "100%|██████████| 123/123 [01:11<00:00,  1.73it/s]\n",
      "100%|██████████| 31/31 [00:11<00:00,  2.62it/s]\n",
      "  0%|          | 0/123 [00:00<?, ?it/s]"
     ]
    },
    {
     "name": "stdout",
     "output_type": "stream",
     "text": [
      "cost:83.000000s total_train_loss: 2.31207478 val_loss: 7.01669242\n",
      "epochs [126/200]\n"
     ]
    },
    {
     "name": "stderr",
     "output_type": "stream",
     "text": [
      "100%|██████████| 123/123 [01:10<00:00,  1.73it/s]\n",
      "100%|██████████| 31/31 [00:11<00:00,  2.74it/s]\n",
      "  0%|          | 0/123 [00:00<?, ?it/s]"
     ]
    },
    {
     "name": "stdout",
     "output_type": "stream",
     "text": [
      "cost:82.000000s total_train_loss: 2.31399800 val_loss: 6.89625180\n",
      "epochs [127/200]\n"
     ]
    },
    {
     "name": "stderr",
     "output_type": "stream",
     "text": [
      "100%|██████████| 123/123 [01:10<00:00,  1.74it/s]\n",
      "100%|██████████| 31/31 [00:11<00:00,  2.79it/s]\n",
      "  0%|          | 0/123 [00:00<?, ?it/s]"
     ]
    },
    {
     "name": "stdout",
     "output_type": "stream",
     "text": [
      "cost:81.000000s total_train_loss: 2.23639223 val_loss: 6.91724523\n",
      "epochs [128/200]\n"
     ]
    },
    {
     "name": "stderr",
     "output_type": "stream",
     "text": [
      "100%|██████████| 123/123 [01:10<00:00,  1.74it/s]\n",
      "100%|██████████| 31/31 [00:11<00:00,  2.71it/s]\n",
      "  0%|          | 0/123 [00:00<?, ?it/s]"
     ]
    },
    {
     "name": "stdout",
     "output_type": "stream",
     "text": [
      "cost:82.000000s total_train_loss: 2.25928977 val_loss: 6.83223421\n",
      "epochs [129/200]\n"
     ]
    },
    {
     "name": "stderr",
     "output_type": "stream",
     "text": [
      "100%|██████████| 123/123 [01:11<00:00,  1.73it/s]\n",
      "100%|██████████| 31/31 [00:11<00:00,  2.66it/s]\n",
      "  0%|          | 0/123 [00:00<?, ?it/s]"
     ]
    },
    {
     "name": "stdout",
     "output_type": "stream",
     "text": [
      "cost:82.000000s total_train_loss: 2.16474544 val_loss: 6.90671449\n",
      "epochs [130/200]\n"
     ]
    },
    {
     "name": "stderr",
     "output_type": "stream",
     "text": [
      "100%|██████████| 123/123 [01:10<00:00,  1.74it/s]\n",
      "100%|██████████| 31/31 [00:11<00:00,  2.69it/s]\n",
      "  0%|          | 0/123 [00:00<?, ?it/s]"
     ]
    },
    {
     "name": "stdout",
     "output_type": "stream",
     "text": [
      "cost:82.000000s total_train_loss: 2.21009985 val_loss: 6.89575154\n",
      "epochs [131/200]\n"
     ]
    },
    {
     "name": "stderr",
     "output_type": "stream",
     "text": [
      "100%|██████████| 123/123 [01:10<00:00,  1.75it/s]\n",
      "100%|██████████| 31/31 [00:11<00:00,  2.71it/s]\n",
      "  0%|          | 0/123 [00:00<?, ?it/s]"
     ]
    },
    {
     "name": "stdout",
     "output_type": "stream",
     "text": [
      "cost:81.000000s total_train_loss: 2.26810098 val_loss: 6.90601547\n",
      "epochs [132/200]\n"
     ]
    },
    {
     "name": "stderr",
     "output_type": "stream",
     "text": [
      "100%|██████████| 123/123 [01:11<00:00,  1.73it/s]\n",
      "100%|██████████| 31/31 [00:11<00:00,  2.68it/s]\n",
      "  0%|          | 0/123 [00:00<?, ?it/s]"
     ]
    },
    {
     "name": "stdout",
     "output_type": "stream",
     "text": [
      "cost:82.000000s total_train_loss: 2.43540562 val_loss: 7.15367522\n",
      "epochs [133/200]\n"
     ]
    },
    {
     "name": "stderr",
     "output_type": "stream",
     "text": [
      "100%|██████████| 123/123 [01:10<00:00,  1.74it/s]\n",
      "100%|██████████| 31/31 [00:11<00:00,  2.70it/s]\n",
      "  0%|          | 0/123 [00:00<?, ?it/s]"
     ]
    },
    {
     "name": "stdout",
     "output_type": "stream",
     "text": [
      "cost:82.000000s total_train_loss: 2.27054100 val_loss: 6.81554191\n",
      "epochs [134/200]\n"
     ]
    },
    {
     "name": "stderr",
     "output_type": "stream",
     "text": [
      "100%|██████████| 123/123 [01:10<00:00,  1.73it/s]\n",
      "100%|██████████| 31/31 [00:11<00:00,  2.70it/s]\n",
      "  0%|          | 0/123 [00:00<?, ?it/s]"
     ]
    },
    {
     "name": "stdout",
     "output_type": "stream",
     "text": [
      "cost:82.000000s total_train_loss: 2.22573961 val_loss: 6.87143687\n",
      "epochs [135/200]\n"
     ]
    },
    {
     "name": "stderr",
     "output_type": "stream",
     "text": [
      "100%|██████████| 123/123 [01:10<00:00,  1.74it/s]\n",
      "100%|██████████| 31/31 [00:11<00:00,  2.74it/s]\n",
      "  0%|          | 0/123 [00:00<?, ?it/s]"
     ]
    },
    {
     "name": "stdout",
     "output_type": "stream",
     "text": [
      "cost:82.000000s total_train_loss: 2.17441858 val_loss: 6.93750963\n",
      "epochs [136/200]\n"
     ]
    },
    {
     "name": "stderr",
     "output_type": "stream",
     "text": [
      "100%|██████████| 123/123 [01:11<00:00,  1.72it/s]\n",
      "100%|██████████| 31/31 [00:11<00:00,  2.74it/s]\n",
      "  0%|          | 0/123 [00:00<?, ?it/s]"
     ]
    },
    {
     "name": "stdout",
     "output_type": "stream",
     "text": [
      "cost:82.000000s total_train_loss: 2.19775570 val_loss: 6.97264424\n",
      "epochs [137/200]\n"
     ]
    },
    {
     "name": "stderr",
     "output_type": "stream",
     "text": [
      "100%|██████████| 123/123 [01:11<00:00,  1.73it/s]\n",
      "100%|██████████| 31/31 [00:11<00:00,  2.67it/s]\n"
     ]
    },
    {
     "name": "stdout",
     "output_type": "stream",
     "text": [
      "Saving Model in epoch 137\n"
     ]
    },
    {
     "name": "stderr",
     "output_type": "stream",
     "text": [
      "  0%|          | 0/123 [00:00<?, ?it/s]"
     ]
    },
    {
     "name": "stdout",
     "output_type": "stream",
     "text": [
      "cost:84.000000s total_train_loss: 2.19872189 val_loss: 6.73425771\n",
      "epochs [138/200]\n"
     ]
    },
    {
     "name": "stderr",
     "output_type": "stream",
     "text": [
      "100%|██████████| 123/123 [01:10<00:00,  1.75it/s]\n",
      "100%|██████████| 31/31 [00:11<00:00,  2.75it/s]\n",
      "  0%|          | 0/123 [00:00<?, ?it/s]"
     ]
    },
    {
     "name": "stdout",
     "output_type": "stream",
     "text": [
      "cost:81.000000s total_train_loss: 2.18548445 val_loss: 6.77121261\n",
      "epochs [139/200]\n"
     ]
    },
    {
     "name": "stderr",
     "output_type": "stream",
     "text": [
      "100%|██████████| 123/123 [01:11<00:00,  1.73it/s]\n",
      "100%|██████████| 31/31 [00:11<00:00,  2.65it/s]\n",
      "  0%|          | 0/123 [00:00<?, ?it/s]"
     ]
    },
    {
     "name": "stdout",
     "output_type": "stream",
     "text": [
      "cost:82.000000s total_train_loss: 2.19110802 val_loss: 6.79852856\n",
      "epochs [140/200]\n"
     ]
    },
    {
     "name": "stderr",
     "output_type": "stream",
     "text": [
      "100%|██████████| 123/123 [01:10<00:00,  1.74it/s]\n",
      "100%|██████████| 31/31 [00:11<00:00,  2.73it/s]\n",
      "  0%|          | 0/123 [00:00<?, ?it/s]"
     ]
    },
    {
     "name": "stdout",
     "output_type": "stream",
     "text": [
      "cost:82.000000s total_train_loss: 2.23490067 val_loss: 6.77656955\n",
      "epochs [141/200]\n"
     ]
    },
    {
     "name": "stderr",
     "output_type": "stream",
     "text": [
      "100%|██████████| 123/123 [01:11<00:00,  1.73it/s]\n",
      "100%|██████████| 31/31 [00:11<00:00,  2.72it/s]\n",
      "  0%|          | 0/123 [00:00<?, ?it/s]"
     ]
    },
    {
     "name": "stdout",
     "output_type": "stream",
     "text": [
      "cost:82.000000s total_train_loss: 2.11682612 val_loss: 6.85884630\n",
      "epochs [142/200]\n"
     ]
    },
    {
     "name": "stderr",
     "output_type": "stream",
     "text": [
      "100%|██████████| 123/123 [01:10<00:00,  1.74it/s]\n",
      "100%|██████████| 31/31 [00:11<00:00,  2.71it/s]\n",
      "  0%|          | 0/123 [00:00<?, ?it/s]"
     ]
    },
    {
     "name": "stdout",
     "output_type": "stream",
     "text": [
      "cost:82.000000s total_train_loss: 2.25512518 val_loss: 6.90640282\n",
      "epochs [143/200]\n"
     ]
    },
    {
     "name": "stderr",
     "output_type": "stream",
     "text": [
      "100%|██████████| 123/123 [01:10<00:00,  1.73it/s]\n",
      "100%|██████████| 31/31 [00:11<00:00,  2.70it/s]\n",
      "  0%|          | 0/123 [00:00<?, ?it/s]"
     ]
    },
    {
     "name": "stdout",
     "output_type": "stream",
     "text": [
      "cost:82.000000s total_train_loss: 2.25027440 val_loss: 6.99185682\n",
      "epochs [144/200]\n"
     ]
    },
    {
     "name": "stderr",
     "output_type": "stream",
     "text": [
      "100%|██████████| 123/123 [01:11<00:00,  1.73it/s]\n",
      "100%|██████████| 31/31 [00:11<00:00,  2.63it/s]\n",
      "  0%|          | 0/123 [00:00<?, ?it/s]"
     ]
    },
    {
     "name": "stdout",
     "output_type": "stream",
     "text": [
      "cost:82.000000s total_train_loss: 2.10082028 val_loss: 6.75685929\n",
      "epochs [145/200]\n"
     ]
    },
    {
     "name": "stderr",
     "output_type": "stream",
     "text": [
      "100%|██████████| 123/123 [01:11<00:00,  1.72it/s]\n",
      "100%|██████████| 31/31 [00:11<00:00,  2.71it/s]\n"
     ]
    },
    {
     "name": "stdout",
     "output_type": "stream",
     "text": [
      "Saving Model in epoch 145\n"
     ]
    },
    {
     "name": "stderr",
     "output_type": "stream",
     "text": [
      "  0%|          | 0/123 [00:00<?, ?it/s]"
     ]
    },
    {
     "name": "stdout",
     "output_type": "stream",
     "text": [
      "cost:84.000000s total_train_loss: 1.97225128 val_loss: 6.71897956\n",
      "epochs [146/200]\n"
     ]
    },
    {
     "name": "stderr",
     "output_type": "stream",
     "text": [
      "100%|██████████| 123/123 [01:10<00:00,  1.73it/s]\n",
      "100%|██████████| 31/31 [00:11<00:00,  2.74it/s]\n",
      "  0%|          | 0/123 [00:00<?, ?it/s]"
     ]
    },
    {
     "name": "stdout",
     "output_type": "stream",
     "text": [
      "cost:82.000000s total_train_loss: 1.90810739 val_loss: 7.42728724\n",
      "epochs [147/200]\n"
     ]
    },
    {
     "name": "stderr",
     "output_type": "stream",
     "text": [
      "100%|██████████| 123/123 [01:10<00:00,  1.74it/s]\n",
      "100%|██████████| 31/31 [00:11<00:00,  2.69it/s]\n"
     ]
    },
    {
     "name": "stdout",
     "output_type": "stream",
     "text": [
      "Saving Model in epoch 147\n"
     ]
    },
    {
     "name": "stderr",
     "output_type": "stream",
     "text": [
      "  0%|          | 0/123 [00:00<?, ?it/s]"
     ]
    },
    {
     "name": "stdout",
     "output_type": "stream",
     "text": [
      "cost:83.000000s total_train_loss: 2.06574093 val_loss: 6.71873365\n",
      "epochs [148/200]\n"
     ]
    },
    {
     "name": "stderr",
     "output_type": "stream",
     "text": [
      "100%|██████████| 123/123 [01:10<00:00,  1.73it/s]\n",
      "100%|██████████| 31/31 [00:11<00:00,  2.72it/s]\n",
      "  0%|          | 0/123 [00:00<?, ?it/s]"
     ]
    },
    {
     "name": "stdout",
     "output_type": "stream",
     "text": [
      "cost:82.000000s total_train_loss: 1.91303192 val_loss: 6.75889775\n",
      "epochs [149/200]\n"
     ]
    },
    {
     "name": "stderr",
     "output_type": "stream",
     "text": [
      "100%|██████████| 123/123 [01:11<00:00,  1.73it/s]\n",
      "100%|██████████| 31/31 [00:11<00:00,  2.63it/s]\n",
      "  0%|          | 0/123 [00:00<?, ?it/s]"
     ]
    },
    {
     "name": "stdout",
     "output_type": "stream",
     "text": [
      "cost:82.000000s total_train_loss: 1.99661835 val_loss: 6.76745327\n",
      "epochs [150/200]\n"
     ]
    },
    {
     "name": "stderr",
     "output_type": "stream",
     "text": [
      "100%|██████████| 123/123 [01:10<00:00,  1.73it/s]\n",
      "100%|██████████| 31/31 [00:11<00:00,  2.66it/s]\n",
      "  0%|          | 0/123 [00:00<?, ?it/s]"
     ]
    },
    {
     "name": "stdout",
     "output_type": "stream",
     "text": [
      "cost:82.000000s total_train_loss: 1.93866866 val_loss: 6.73800239\n",
      "epochs [151/200]\n"
     ]
    },
    {
     "name": "stderr",
     "output_type": "stream",
     "text": [
      "100%|██████████| 123/123 [01:10<00:00,  1.74it/s]\n",
      "100%|██████████| 31/31 [00:11<00:00,  2.67it/s]\n",
      "  0%|          | 0/123 [00:00<?, ?it/s]"
     ]
    },
    {
     "name": "stdout",
     "output_type": "stream",
     "text": [
      "cost:82.000000s total_train_loss: 1.88807912 val_loss: 6.72144439\n",
      "epochs [152/200]\n"
     ]
    },
    {
     "name": "stderr",
     "output_type": "stream",
     "text": [
      "100%|██████████| 123/123 [01:10<00:00,  1.74it/s]\n",
      "100%|██████████| 31/31 [00:11<00:00,  2.59it/s]\n",
      "  0%|          | 0/123 [00:00<?, ?it/s]"
     ]
    },
    {
     "name": "stdout",
     "output_type": "stream",
     "text": [
      "cost:82.000000s total_train_loss: 1.88828960 val_loss: 6.76775643\n",
      "epochs [153/200]\n"
     ]
    },
    {
     "name": "stderr",
     "output_type": "stream",
     "text": [
      "100%|██████████| 123/123 [01:11<00:00,  1.73it/s]\n",
      "100%|██████████| 31/31 [00:11<00:00,  2.68it/s]\n",
      "  0%|          | 0/123 [00:00<?, ?it/s]"
     ]
    },
    {
     "name": "stdout",
     "output_type": "stream",
     "text": [
      "cost:82.000000s total_train_loss: 1.81562100 val_loss: 6.72422286\n",
      "epochs [154/200]\n"
     ]
    },
    {
     "name": "stderr",
     "output_type": "stream",
     "text": [
      "100%|██████████| 123/123 [01:10<00:00,  1.73it/s]\n",
      "100%|██████████| 31/31 [00:11<00:00,  2.69it/s]\n",
      "  0%|          | 0/123 [00:00<?, ?it/s]"
     ]
    },
    {
     "name": "stdout",
     "output_type": "stream",
     "text": [
      "cost:82.000000s total_train_loss: 1.91114065 val_loss: 6.73781518\n",
      "epochs [155/200]\n"
     ]
    },
    {
     "name": "stderr",
     "output_type": "stream",
     "text": [
      "100%|██████████| 123/123 [01:10<00:00,  1.74it/s]\n",
      "100%|██████████| 31/31 [00:11<00:00,  2.69it/s]\n",
      "  0%|          | 0/123 [00:00<?, ?it/s]"
     ]
    },
    {
     "name": "stdout",
     "output_type": "stream",
     "text": [
      "cost:82.000000s total_train_loss: 1.83086277 val_loss: 6.76440956\n",
      "epochs [156/200]\n"
     ]
    },
    {
     "name": "stderr",
     "output_type": "stream",
     "text": [
      "100%|██████████| 123/123 [01:10<00:00,  1.74it/s]\n",
      "100%|██████████| 31/31 [00:11<00:00,  2.74it/s]\n",
      "  0%|          | 0/123 [00:00<?, ?it/s]"
     ]
    },
    {
     "name": "stdout",
     "output_type": "stream",
     "text": [
      "cost:82.000000s total_train_loss: 1.92548957 val_loss: 6.77818351\n",
      "epochs [157/200]\n"
     ]
    },
    {
     "name": "stderr",
     "output_type": "stream",
     "text": [
      "100%|██████████| 123/123 [01:10<00:00,  1.75it/s]\n",
      "100%|██████████| 31/31 [00:11<00:00,  2.66it/s]\n",
      "  0%|          | 0/123 [00:00<?, ?it/s]"
     ]
    },
    {
     "name": "stdout",
     "output_type": "stream",
     "text": [
      "cost:82.000000s total_train_loss: 1.88807117 val_loss: 6.72507038\n",
      "epochs [158/200]\n"
     ]
    },
    {
     "name": "stderr",
     "output_type": "stream",
     "text": [
      "100%|██████████| 123/123 [01:11<00:00,  1.72it/s]\n",
      "100%|██████████| 31/31 [00:11<00:00,  2.74it/s]\n"
     ]
    },
    {
     "name": "stdout",
     "output_type": "stream",
     "text": [
      "Saving Model in epoch 158\n"
     ]
    },
    {
     "name": "stderr",
     "output_type": "stream",
     "text": [
      "  0%|          | 0/123 [00:00<?, ?it/s]"
     ]
    },
    {
     "name": "stdout",
     "output_type": "stream",
     "text": [
      "cost:84.000000s total_train_loss: 1.99277162 val_loss: 6.66188422\n",
      "epochs [159/200]\n"
     ]
    },
    {
     "name": "stderr",
     "output_type": "stream",
     "text": [
      "100%|██████████| 123/123 [01:11<00:00,  1.73it/s]\n",
      "100%|██████████| 31/31 [00:11<00:00,  2.72it/s]\n"
     ]
    },
    {
     "name": "stdout",
     "output_type": "stream",
     "text": [
      "Saving Model in epoch 159\n"
     ]
    },
    {
     "name": "stderr",
     "output_type": "stream",
     "text": [
      "  0%|          | 0/123 [00:00<?, ?it/s]"
     ]
    },
    {
     "name": "stdout",
     "output_type": "stream",
     "text": [
      "cost:83.000000s total_train_loss: 1.82059823 val_loss: 6.63572788\n",
      "epochs [160/200]\n"
     ]
    },
    {
     "name": "stderr",
     "output_type": "stream",
     "text": [
      "100%|██████████| 123/123 [01:11<00:00,  1.72it/s]\n",
      "100%|██████████| 31/31 [00:11<00:00,  2.71it/s]\n",
      "  0%|          | 0/123 [00:00<?, ?it/s]"
     ]
    },
    {
     "name": "stdout",
     "output_type": "stream",
     "text": [
      "cost:83.000000s total_train_loss: 1.76410995 val_loss: 6.71160976\n",
      "epochs [161/200]\n"
     ]
    },
    {
     "name": "stderr",
     "output_type": "stream",
     "text": [
      "100%|██████████| 123/123 [01:10<00:00,  1.74it/s]\n",
      "100%|██████████| 31/31 [00:11<00:00,  2.70it/s]\n",
      "  0%|          | 0/123 [00:00<?, ?it/s]"
     ]
    },
    {
     "name": "stdout",
     "output_type": "stream",
     "text": [
      "cost:82.000000s total_train_loss: 1.91518582 val_loss: 7.10543822\n",
      "epochs [162/200]\n"
     ]
    },
    {
     "name": "stderr",
     "output_type": "stream",
     "text": [
      "100%|██████████| 123/123 [01:10<00:00,  1.74it/s]\n",
      "100%|██████████| 31/31 [00:11<00:00,  2.73it/s]\n",
      "  0%|          | 0/123 [00:00<?, ?it/s]"
     ]
    },
    {
     "name": "stdout",
     "output_type": "stream",
     "text": [
      "cost:81.000000s total_train_loss: 2.03615097 val_loss: 6.67346630\n",
      "epochs [163/200]\n"
     ]
    },
    {
     "name": "stderr",
     "output_type": "stream",
     "text": [
      "100%|██████████| 123/123 [01:10<00:00,  1.74it/s]\n",
      "100%|██████████| 31/31 [00:11<00:00,  2.71it/s]\n",
      "  0%|          | 0/123 [00:00<?, ?it/s]"
     ]
    },
    {
     "name": "stdout",
     "output_type": "stream",
     "text": [
      "cost:82.000000s total_train_loss: 1.93775561 val_loss: 6.71199702\n",
      "epochs [164/200]\n"
     ]
    },
    {
     "name": "stderr",
     "output_type": "stream",
     "text": [
      "100%|██████████| 123/123 [01:11<00:00,  1.73it/s]\n",
      "100%|██████████| 31/31 [00:11<00:00,  2.69it/s]\n",
      "  0%|          | 0/123 [00:00<?, ?it/s]"
     ]
    },
    {
     "name": "stdout",
     "output_type": "stream",
     "text": [
      "cost:82.000000s total_train_loss: 1.81787117 val_loss: 6.76863618\n",
      "epochs [165/200]\n"
     ]
    },
    {
     "name": "stderr",
     "output_type": "stream",
     "text": [
      "100%|██████████| 123/123 [01:10<00:00,  1.74it/s]\n",
      "100%|██████████| 31/31 [00:11<00:00,  2.74it/s]\n",
      "  0%|          | 0/123 [00:00<?, ?it/s]"
     ]
    },
    {
     "name": "stdout",
     "output_type": "stream",
     "text": [
      "cost:82.000000s total_train_loss: 1.80007954 val_loss: 7.14516375\n",
      "epochs [166/200]\n"
     ]
    },
    {
     "name": "stderr",
     "output_type": "stream",
     "text": [
      "100%|██████████| 123/123 [01:10<00:00,  1.74it/s]\n",
      "100%|██████████| 31/31 [00:11<00:00,  2.67it/s]\n",
      "  0%|          | 0/123 [00:00<?, ?it/s]"
     ]
    },
    {
     "name": "stdout",
     "output_type": "stream",
     "text": [
      "cost:82.000000s total_train_loss: 1.83132880 val_loss: 6.84945809\n",
      "epochs [167/200]\n"
     ]
    },
    {
     "name": "stderr",
     "output_type": "stream",
     "text": [
      "100%|██████████| 123/123 [01:11<00:00,  1.73it/s]\n",
      "100%|██████████| 31/31 [00:11<00:00,  2.71it/s]\n"
     ]
    },
    {
     "name": "stdout",
     "output_type": "stream",
     "text": [
      "Saving Model in epoch 167\n"
     ]
    },
    {
     "name": "stderr",
     "output_type": "stream",
     "text": [
      "  0%|          | 0/123 [00:00<?, ?it/s]"
     ]
    },
    {
     "name": "stdout",
     "output_type": "stream",
     "text": [
      "cost:84.000000s total_train_loss: 1.87886149 val_loss: 6.63060470\n",
      "epochs [168/200]\n"
     ]
    },
    {
     "name": "stderr",
     "output_type": "stream",
     "text": [
      "100%|██████████| 123/123 [01:11<00:00,  1.72it/s]\n",
      "100%|██████████| 31/31 [00:11<00:00,  2.76it/s]\n",
      "  0%|          | 0/123 [00:00<?, ?it/s]"
     ]
    },
    {
     "name": "stdout",
     "output_type": "stream",
     "text": [
      "cost:82.000000s total_train_loss: 1.70441847 val_loss: 6.68171249\n",
      "epochs [169/200]\n"
     ]
    },
    {
     "name": "stderr",
     "output_type": "stream",
     "text": [
      "100%|██████████| 123/123 [01:10<00:00,  1.74it/s]\n",
      "100%|██████████| 31/31 [00:11<00:00,  2.67it/s]\n"
     ]
    },
    {
     "name": "stdout",
     "output_type": "stream",
     "text": [
      "Saving Model in epoch 169\n"
     ]
    },
    {
     "name": "stderr",
     "output_type": "stream",
     "text": [
      "  0%|          | 0/123 [00:00<?, ?it/s]"
     ]
    },
    {
     "name": "stdout",
     "output_type": "stream",
     "text": [
      "cost:83.000000s total_train_loss: 1.71237188 val_loss: 6.62037333\n",
      "epochs [170/200]\n"
     ]
    },
    {
     "name": "stderr",
     "output_type": "stream",
     "text": [
      "100%|██████████| 123/123 [01:10<00:00,  1.74it/s]\n",
      "100%|██████████| 31/31 [00:11<00:00,  2.68it/s]\n",
      "  0%|          | 0/123 [00:00<?, ?it/s]"
     ]
    },
    {
     "name": "stdout",
     "output_type": "stream",
     "text": [
      "cost:82.000000s total_train_loss: 1.79457304 val_loss: 6.78902458\n",
      "epochs [171/200]\n"
     ]
    },
    {
     "name": "stderr",
     "output_type": "stream",
     "text": [
      "100%|██████████| 123/123 [01:11<00:00,  1.73it/s]\n",
      "100%|██████████| 31/31 [00:11<00:00,  2.71it/s]\n",
      "  0%|          | 0/123 [00:00<?, ?it/s]"
     ]
    },
    {
     "name": "stdout",
     "output_type": "stream",
     "text": [
      "cost:82.000000s total_train_loss: 1.77130925 val_loss: 6.64255285\n",
      "epochs [172/200]\n"
     ]
    },
    {
     "name": "stderr",
     "output_type": "stream",
     "text": [
      "100%|██████████| 123/123 [01:11<00:00,  1.72it/s]\n",
      "100%|██████████| 31/31 [00:11<00:00,  2.67it/s]\n",
      "  0%|          | 0/123 [00:00<?, ?it/s]"
     ]
    },
    {
     "name": "stdout",
     "output_type": "stream",
     "text": [
      "cost:82.000000s total_train_loss: 1.70214907 val_loss: 6.62961043\n",
      "epochs [173/200]\n"
     ]
    },
    {
     "name": "stderr",
     "output_type": "stream",
     "text": [
      "100%|██████████| 123/123 [01:11<00:00,  1.72it/s]\n",
      "100%|██████████| 31/31 [00:11<00:00,  2.68it/s]\n",
      "  0%|          | 0/123 [00:00<?, ?it/s]"
     ]
    },
    {
     "name": "stdout",
     "output_type": "stream",
     "text": [
      "cost:82.000000s total_train_loss: 1.70525387 val_loss: 6.69846542\n",
      "epochs [174/200]\n"
     ]
    },
    {
     "name": "stderr",
     "output_type": "stream",
     "text": [
      "100%|██████████| 123/123 [01:10<00:00,  1.74it/s]\n",
      "100%|██████████| 31/31 [00:11<00:00,  2.74it/s]\n"
     ]
    },
    {
     "name": "stdout",
     "output_type": "stream",
     "text": [
      "Saving Model in epoch 174\n"
     ]
    },
    {
     "name": "stderr",
     "output_type": "stream",
     "text": [
      "  0%|          | 0/123 [00:00<?, ?it/s]"
     ]
    },
    {
     "name": "stdout",
     "output_type": "stream",
     "text": [
      "cost:83.000000s total_train_loss: 1.72715166 val_loss: 6.58792293\n",
      "epochs [175/200]\n"
     ]
    },
    {
     "name": "stderr",
     "output_type": "stream",
     "text": [
      "100%|██████████| 123/123 [01:10<00:00,  1.74it/s]\n",
      "100%|██████████| 31/31 [00:11<00:00,  2.68it/s]\n",
      "  0%|          | 0/123 [00:00<?, ?it/s]"
     ]
    },
    {
     "name": "stdout",
     "output_type": "stream",
     "text": [
      "cost:82.000000s total_train_loss: 1.69678425 val_loss: 6.65532431\n",
      "epochs [176/200]\n"
     ]
    },
    {
     "name": "stderr",
     "output_type": "stream",
     "text": [
      "100%|██████████| 123/123 [01:10<00:00,  1.74it/s]\n",
      "100%|██████████| 31/31 [00:11<00:00,  2.67it/s]\n",
      "  0%|          | 0/123 [00:00<?, ?it/s]"
     ]
    },
    {
     "name": "stdout",
     "output_type": "stream",
     "text": [
      "cost:82.000000s total_train_loss: 1.69343535 val_loss: 6.64793854\n",
      "epochs [177/200]\n"
     ]
    },
    {
     "name": "stderr",
     "output_type": "stream",
     "text": [
      "100%|██████████| 123/123 [01:10<00:00,  1.74it/s]\n",
      "100%|██████████| 31/31 [00:11<00:00,  2.67it/s]\n"
     ]
    },
    {
     "name": "stdout",
     "output_type": "stream",
     "text": [
      "Saving Model in epoch 177\n"
     ]
    },
    {
     "name": "stderr",
     "output_type": "stream",
     "text": [
      "  0%|          | 0/123 [00:00<?, ?it/s]"
     ]
    },
    {
     "name": "stdout",
     "output_type": "stream",
     "text": [
      "cost:83.000000s total_train_loss: 1.60900292 val_loss: 6.55859178\n",
      "epochs [178/200]\n"
     ]
    },
    {
     "name": "stderr",
     "output_type": "stream",
     "text": [
      "100%|██████████| 123/123 [01:10<00:00,  1.74it/s]\n",
      "100%|██████████| 31/31 [00:11<00:00,  2.66it/s]\n",
      "  0%|          | 0/123 [00:00<?, ?it/s]"
     ]
    },
    {
     "name": "stdout",
     "output_type": "stream",
     "text": [
      "cost:82.000000s total_train_loss: 1.63477888 val_loss: 6.78632624\n",
      "epochs [179/200]\n"
     ]
    },
    {
     "name": "stderr",
     "output_type": "stream",
     "text": [
      "100%|██████████| 123/123 [01:10<00:00,  1.74it/s]\n",
      "100%|██████████| 31/31 [00:11<00:00,  2.71it/s]\n",
      "  0%|          | 0/123 [00:00<?, ?it/s]"
     ]
    },
    {
     "name": "stdout",
     "output_type": "stream",
     "text": [
      "cost:82.000000s total_train_loss: 1.67854102 val_loss: 6.79184005\n",
      "epochs [180/200]\n"
     ]
    },
    {
     "name": "stderr",
     "output_type": "stream",
     "text": [
      "100%|██████████| 123/123 [01:10<00:00,  1.74it/s]\n",
      "100%|██████████| 31/31 [00:11<00:00,  2.69it/s]\n",
      "  0%|          | 0/123 [00:00<?, ?it/s]"
     ]
    },
    {
     "name": "stdout",
     "output_type": "stream",
     "text": [
      "cost:82.000000s total_train_loss: 1.72753920 val_loss: 6.61353723\n",
      "epochs [181/200]\n"
     ]
    },
    {
     "name": "stderr",
     "output_type": "stream",
     "text": [
      "100%|██████████| 123/123 [01:10<00:00,  1.74it/s]\n",
      "100%|██████████| 31/31 [00:11<00:00,  2.66it/s]\n",
      "  0%|          | 0/123 [00:00<?, ?it/s]"
     ]
    },
    {
     "name": "stdout",
     "output_type": "stream",
     "text": [
      "cost:82.000000s total_train_loss: 1.57385344 val_loss: 6.64457001\n",
      "epochs [182/200]\n"
     ]
    },
    {
     "name": "stderr",
     "output_type": "stream",
     "text": [
      "100%|██████████| 123/123 [01:11<00:00,  1.73it/s]\n",
      "100%|██████████| 31/31 [00:11<00:00,  2.63it/s]\n"
     ]
    },
    {
     "name": "stdout",
     "output_type": "stream",
     "text": [
      "Saving Model in epoch 182\n"
     ]
    },
    {
     "name": "stderr",
     "output_type": "stream",
     "text": [
      "  0%|          | 0/123 [00:00<?, ?it/s]"
     ]
    },
    {
     "name": "stdout",
     "output_type": "stream",
     "text": [
      "cost:84.000000s total_train_loss: 1.57373518 val_loss: 6.53304603\n",
      "epochs [183/200]\n"
     ]
    },
    {
     "name": "stderr",
     "output_type": "stream",
     "text": [
      "100%|██████████| 123/123 [01:11<00:00,  1.73it/s]\n",
      "100%|██████████| 31/31 [00:11<00:00,  2.74it/s]\n",
      "  0%|          | 0/123 [00:00<?, ?it/s]"
     ]
    },
    {
     "name": "stdout",
     "output_type": "stream",
     "text": [
      "cost:82.000000s total_train_loss: 1.60311732 val_loss: 6.70357361\n",
      "epochs [184/200]\n"
     ]
    },
    {
     "name": "stderr",
     "output_type": "stream",
     "text": [
      "100%|██████████| 123/123 [01:11<00:00,  1.73it/s]\n",
      "100%|██████████| 31/31 [00:11<00:00,  2.69it/s]\n",
      "  0%|          | 0/123 [00:00<?, ?it/s]"
     ]
    },
    {
     "name": "stdout",
     "output_type": "stream",
     "text": [
      "cost:82.000000s total_train_loss: 1.84167062 val_loss: 6.94691152\n",
      "epochs [185/200]\n"
     ]
    },
    {
     "name": "stderr",
     "output_type": "stream",
     "text": [
      "100%|██████████| 123/123 [01:10<00:00,  1.74it/s]\n",
      "100%|██████████| 31/31 [00:11<00:00,  2.67it/s]\n",
      "  0%|          | 0/123 [00:00<?, ?it/s]"
     ]
    },
    {
     "name": "stdout",
     "output_type": "stream",
     "text": [
      "cost:82.000000s total_train_loss: 1.76853143 val_loss: 6.71706655\n",
      "epochs [186/200]\n"
     ]
    },
    {
     "name": "stderr",
     "output_type": "stream",
     "text": [
      "100%|██████████| 123/123 [01:10<00:00,  1.74it/s]\n",
      "100%|██████████| 31/31 [00:11<00:00,  2.72it/s]\n",
      "  0%|          | 0/123 [00:00<?, ?it/s]"
     ]
    },
    {
     "name": "stdout",
     "output_type": "stream",
     "text": [
      "cost:82.000000s total_train_loss: 1.64788622 val_loss: 6.62102990\n",
      "epochs [187/200]\n"
     ]
    },
    {
     "name": "stderr",
     "output_type": "stream",
     "text": [
      "100%|██████████| 123/123 [01:10<00:00,  1.73it/s]\n",
      "100%|██████████| 31/31 [00:11<00:00,  2.72it/s]\n",
      "  0%|          | 0/123 [00:00<?, ?it/s]"
     ]
    },
    {
     "name": "stdout",
     "output_type": "stream",
     "text": [
      "cost:82.000000s total_train_loss: 1.56947699 val_loss: 6.61838207\n",
      "epochs [188/200]\n"
     ]
    },
    {
     "name": "stderr",
     "output_type": "stream",
     "text": [
      "100%|██████████| 123/123 [01:11<00:00,  1.73it/s]\n",
      "100%|██████████| 31/31 [00:11<00:00,  2.71it/s]\n",
      "  0%|          | 0/123 [00:00<?, ?it/s]"
     ]
    },
    {
     "name": "stdout",
     "output_type": "stream",
     "text": [
      "cost:82.000000s total_train_loss: 1.58473053 val_loss: 6.56090360\n",
      "epochs [189/200]\n"
     ]
    },
    {
     "name": "stderr",
     "output_type": "stream",
     "text": [
      "100%|██████████| 123/123 [01:11<00:00,  1.73it/s]\n",
      "100%|██████████| 31/31 [00:11<00:00,  2.71it/s]\n",
      "  0%|          | 0/123 [00:00<?, ?it/s]"
     ]
    },
    {
     "name": "stdout",
     "output_type": "stream",
     "text": [
      "cost:82.000000s total_train_loss: 1.60085879 val_loss: 6.62931830\n",
      "epochs [190/200]\n"
     ]
    },
    {
     "name": "stderr",
     "output_type": "stream",
     "text": [
      "100%|██████████| 123/123 [01:10<00:00,  1.74it/s]\n",
      "100%|██████████| 31/31 [00:11<00:00,  2.64it/s]\n",
      "  0%|          | 0/123 [00:00<?, ?it/s]"
     ]
    },
    {
     "name": "stdout",
     "output_type": "stream",
     "text": [
      "cost:82.000000s total_train_loss: 1.66293191 val_loss: 6.76289989\n",
      "epochs [191/200]\n"
     ]
    },
    {
     "name": "stderr",
     "output_type": "stream",
     "text": [
      "100%|██████████| 123/123 [01:10<00:00,  1.74it/s]\n",
      "100%|██████████| 31/31 [00:11<00:00,  2.65it/s]\n",
      "  0%|          | 0/123 [00:00<?, ?it/s]"
     ]
    },
    {
     "name": "stdout",
     "output_type": "stream",
     "text": [
      "cost:82.000000s total_train_loss: 1.74264630 val_loss: 6.62140780\n",
      "epochs [192/200]\n"
     ]
    },
    {
     "name": "stderr",
     "output_type": "stream",
     "text": [
      "100%|██████████| 123/123 [01:10<00:00,  1.74it/s]\n",
      "100%|██████████| 31/31 [00:11<00:00,  2.65it/s]\n"
     ]
    },
    {
     "name": "stdout",
     "output_type": "stream",
     "text": [
      "Saving Model in epoch 192\n"
     ]
    },
    {
     "name": "stderr",
     "output_type": "stream",
     "text": [
      "  0%|          | 0/123 [00:00<?, ?it/s]"
     ]
    },
    {
     "name": "stdout",
     "output_type": "stream",
     "text": [
      "cost:83.000000s total_train_loss: 1.64621869 val_loss: 6.49855160\n",
      "epochs [193/200]\n"
     ]
    },
    {
     "name": "stderr",
     "output_type": "stream",
     "text": [
      "100%|██████████| 123/123 [01:11<00:00,  1.73it/s]\n",
      "100%|██████████| 31/31 [00:11<00:00,  2.75it/s]\n",
      "  0%|          | 0/123 [00:00<?, ?it/s]"
     ]
    },
    {
     "name": "stdout",
     "output_type": "stream",
     "text": [
      "cost:82.000000s total_train_loss: 1.58070922 val_loss: 6.56917654\n",
      "epochs [194/200]\n"
     ]
    },
    {
     "name": "stderr",
     "output_type": "stream",
     "text": [
      "100%|██████████| 123/123 [01:11<00:00,  1.72it/s]\n",
      "100%|██████████| 31/31 [00:11<00:00,  2.72it/s]\n",
      "  0%|          | 0/123 [00:00<?, ?it/s]"
     ]
    },
    {
     "name": "stdout",
     "output_type": "stream",
     "text": [
      "cost:82.000000s total_train_loss: 1.56494194 val_loss: 6.61243086\n",
      "epochs [195/200]\n"
     ]
    },
    {
     "name": "stderr",
     "output_type": "stream",
     "text": [
      "100%|██████████| 123/123 [01:10<00:00,  1.74it/s]\n",
      "100%|██████████| 31/31 [00:11<00:00,  2.70it/s]\n",
      "  0%|          | 0/123 [00:00<?, ?it/s]"
     ]
    },
    {
     "name": "stdout",
     "output_type": "stream",
     "text": [
      "cost:82.000000s total_train_loss: 1.55806798 val_loss: 6.61218436\n",
      "epochs [196/200]\n"
     ]
    },
    {
     "name": "stderr",
     "output_type": "stream",
     "text": [
      "100%|██████████| 123/123 [01:10<00:00,  1.74it/s]\n",
      "100%|██████████| 31/31 [00:11<00:00,  2.66it/s]\n",
      "  0%|          | 0/123 [00:00<?, ?it/s]"
     ]
    },
    {
     "name": "stdout",
     "output_type": "stream",
     "text": [
      "cost:82.000000s total_train_loss: 1.55146350 val_loss: 6.66434734\n",
      "epochs [197/200]\n"
     ]
    },
    {
     "name": "stderr",
     "output_type": "stream",
     "text": [
      "100%|██████████| 123/123 [01:10<00:00,  1.73it/s]\n",
      "100%|██████████| 31/31 [00:11<00:00,  2.62it/s]\n",
      "  0%|          | 0/123 [00:00<?, ?it/s]"
     ]
    },
    {
     "name": "stdout",
     "output_type": "stream",
     "text": [
      "cost:82.000000s total_train_loss: 1.74093336 val_loss: 6.72670297\n",
      "epochs [198/200]\n"
     ]
    },
    {
     "name": "stderr",
     "output_type": "stream",
     "text": [
      "100%|██████████| 123/123 [01:11<00:00,  1.73it/s]\n",
      "100%|██████████| 31/31 [00:11<00:00,  2.70it/s]\n",
      "  0%|          | 0/123 [00:00<?, ?it/s]"
     ]
    },
    {
     "name": "stdout",
     "output_type": "stream",
     "text": [
      "cost:82.000000s total_train_loss: 1.70016576 val_loss: 6.57570865\n",
      "epochs [199/200]\n"
     ]
    },
    {
     "name": "stderr",
     "output_type": "stream",
     "text": [
      "100%|██████████| 123/123 [01:10<00:00,  1.74it/s]\n",
      "100%|██████████| 31/31 [00:11<00:00,  2.65it/s]\n",
      "  0%|          | 0/123 [00:00<?, ?it/s]"
     ]
    },
    {
     "name": "stdout",
     "output_type": "stream",
     "text": [
      "cost:82.000000s total_train_loss: 1.57367120 val_loss: 6.78573296\n",
      "epochs [200/200]\n"
     ]
    },
    {
     "name": "stderr",
     "output_type": "stream",
     "text": [
      "100%|██████████| 123/123 [01:11<00:00,  1.72it/s]\n",
      "100%|██████████| 31/31 [00:11<00:00,  2.72it/s]\n"
     ]
    },
    {
     "name": "stdout",
     "output_type": "stream",
     "text": [
      "cost:82.000000s total_train_loss: 1.59696648 val_loss: 6.57411668\n",
      "Finished Training\n",
      "Total cost: 16913.000000s\n"
     ]
    },
    {
     "data": {
      "image/png": "[encoded data removed]",
      "text/plain": [
       "<Figure size 107.52x107.52 with 1 Axes>"
      ]
     },
     "metadata": {},
     "output_type": "display_data"
    }
   ],
   "source": [
    "logging.info('training '+model_name)\n",
    "start = datetime.datetime.now()\n",
    "sample = random_sample(valid_index_loader)\n",
    "if os.path.exists(root_path+train_save_name) == False:\n",
    "    os.makedirs(root_path+train_save_name)\n",
    "save_img(sample.unsqueeze(0)* (max_img - min_img) + min_img, path=f'{root_path}{train_save_name}/sample_original.jpg')\n",
    "    \n",
    "for epoch in range(start_epoch, epochs):  # loop over the dataset multiple times\n",
    "    print('epochs [%d/%d]' % (epoch + 1, epochs))\n",
    "    logging.info('epochs ['+str(epoch + 1)+'/'+str(epochs)+']')\n",
    "    starttime = datetime.datetime.now()\n",
    "    # train data\n",
    "    total_train_loss = 0\n",
    "    train_cnt = 0\n",
    "    for _data, _target in tqdm(train_index_loader):\n",
    "        data = _data.cuda()\n",
    "        target = _target.cuda()\n",
    "        # zero the parameter gradients\n",
    "        optimizer.zero_grad()\n",
    "        # forward + backward + optimize\n",
    "        pred, _, _, _ = model.forward(data)\n",
    "        optimizer.zero_grad()\n",
    "        loss = criterion(pred, target)\n",
    "        total_train_loss += loss.item()\n",
    "        train_cnt += 1\n",
    "        loss.backward()\n",
    "        optimizer.step()\n",
    "    \n",
    "    total_val_loss = 0\n",
    "    val_cnt = 0\n",
    "    for _data, _target in tqdm(valid_index_loader):\n",
    "        data = _data.cuda()\n",
    "        target = _target.cuda()\n",
    "        # zero the parameter gradients\n",
    "        # forward + backward + optimize\n",
    "        pred, _, _, _ = model.forward(data)\n",
    "        optimizer.zero_grad()\n",
    "        loss = criterion(pred, target)\n",
    "        val_cnt += 1\n",
    "        total_val_loss += loss.item()\n",
    "    \n",
    "    if min_val_loss > total_val_loss:\n",
    "        checkpoint = {\n",
    "             'epoch': epoch+1, # next epoch\n",
    "             'model': model.state_dict(),\n",
    "             'optimizer': optimizer.state_dict(),\n",
    "             'min_val_loss': total_val_loss\n",
    "        }\n",
    "        torch.save(checkpoint, model_dir + '/' + 'best_validate_model.pth')\n",
    "        print('Saving Model in epoch', epoch+1)\n",
    "        logging.info('Saving Model in epoch '+str(epoch+1))\n",
    "        min_val_loss = total_val_loss       \n",
    "        early_stop_counter = 0\n",
    "    \n",
    "    endtime = datetime.datetime.now()\n",
    "    _, _, _, resized = model(sample.unsqueeze(0))\n",
    "    x1 = resized[0].data * (max_img - min_img) + min_img\n",
    "    \n",
    "    save_img(x1, path=f'{root_path}{train_save_name}/epoch_{epoch}@2x.jpg', annotation=f'epoch = {epoch: .1f} total_val_loss = {total_train_loss/train_cnt:.2f}, val_loss = {total_val_loss/val_cnt:.2f}')\n",
    "  \n",
    "    print('cost:%fs total_train_loss: %.8f val_loss: %.8f' % ((endtime - starttime).seconds,total_train_loss/train_cnt, total_val_loss/val_cnt))\n",
    "    logging.info('cost:'+str((endtime - starttime).seconds)+'s train_loss:'+str(total_train_loss/train_cnt)+' val_loss: '+str(total_val_loss/val_cnt))\n",
    "    \n",
    "    early_stop_counter += 1\n",
    "    if early_stop_counter >= patient:\n",
    "        print('Early Stop Training')\n",
    "        logging.info('Early Stop Training')\n",
    "        break\n",
    "end = datetime.datetime.now()    \n",
    "print('Finished Training')\n",
    "print('Total cost: %fs'%(end-start).seconds)\n",
    "logging.info('Finished Training')\n",
    "logging.info('Total cost:' + str((end-start).seconds)+ 's')"
   ]
  },
  {
   "cell_type": "markdown",
   "metadata": {},
   "source": [
    "# Testing Result\n",
    "\n",
    "show the tesing result"
   ]
  },
  {
   "cell_type": "code",
   "execution_count": 21,
   "metadata": {
    "ExecuteTime": {
     "end_time": "2022-10-13T13:15:52.567771Z",
     "start_time": "2022-10-13T13:15:52.555451Z"
    },
    "execution": {
     "iopub.execute_input": "2022-04-14T15:07:51.671778Z",
     "iopub.status.busy": "2022-04-14T15:07:51.671244Z",
     "iopub.status.idle": "2022-04-14T15:07:51.681220Z",
     "shell.execute_reply": "2022-04-14T15:07:51.680591Z"
    }
   },
   "outputs": [],
   "source": [
    "test_info = data_info[(data_info[\"YEAR\"]>=test_range[0]) & (data_info[\"YEAR\"]<=test_range[1])].copy()"
   ]
  },
  {
   "cell_type": "code",
   "execution_count": 22,
   "metadata": {
    "ExecuteTime": {
     "end_time": "2022-10-13T13:15:53.056479Z",
     "start_time": "2022-10-13T13:15:53.050322Z"
    },
    "execution": {
     "iopub.execute_input": "2022-04-14T15:07:51.683792Z",
     "iopub.status.busy": "2022-04-14T15:07:51.683579Z",
     "iopub.status.idle": "2022-04-14T15:07:51.687946Z",
     "shell.execute_reply": "2022-04-14T15:07:51.687339Z"
    }
   },
   "outputs": [],
   "source": [
    "X = test_info[\"PATH\"].to_numpy()\n",
    "Y = test_info[\"WIND_SPEED\"].to_numpy()\n",
    "Y = np.expand_dims(Y, axis=1)"
   ]
  },
  {
   "cell_type": "code",
   "execution_count": 23,
   "metadata": {
    "ExecuteTime": {
     "end_time": "2022-10-13T13:15:55.065206Z",
     "start_time": "2022-10-13T13:15:53.634447Z"
    },
    "execution": {
     "iopub.execute_input": "2022-04-14T15:07:51.690598Z",
     "iopub.status.busy": "2022-04-14T15:07:51.690074Z",
     "iopub.status.idle": "2022-04-14T15:07:51.843701Z",
     "shell.execute_reply": "2022-04-14T15:07:51.842858Z"
    }
   },
   "outputs": [
    {
     "data": {
      "text/plain": [
       "<All keys matched successfully>"
      ]
     },
     "execution_count": 23,
     "metadata": {},
     "output_type": "execute_result"
    }
   ],
   "source": [
    "checkpoint = torch.load(model_dir + '/' + 'best_validate_model.pth')\n",
    "model.load_state_dict(checkpoint['model'])"
   ]
  },
  {
   "cell_type": "code",
   "execution_count": 24,
   "metadata": {
    "ExecuteTime": {
     "end_time": "2022-10-13T13:15:55.737534Z",
     "start_time": "2022-10-13T13:15:55.730743Z"
    },
    "execution": {
     "iopub.execute_input": "2022-04-14T15:07:51.846259Z",
     "iopub.status.busy": "2022-04-14T15:07:51.846060Z",
     "iopub.status.idle": "2022-04-14T15:07:51.849782Z",
     "shell.execute_reply": "2022-04-14T15:07:51.849042Z"
    }
   },
   "outputs": [],
   "source": [
    "test_list = []\n",
    "pred_list = []\n",
    "test_indexset = LiverDataset([*range(0, len(X))])\n",
    "test_index_loader = DataLoader(dataset=test_indexset,batch_size=64,shuffle=False,)"
   ]
  },
  {
   "cell_type": "code",
   "execution_count": 25,
   "metadata": {
    "ExecuteTime": {
     "end_time": "2022-10-13T13:16:29.116249Z",
     "start_time": "2022-10-13T13:15:56.259766Z"
    },
    "execution": {
     "iopub.execute_input": "2022-04-14T15:07:51.852388Z",
     "iopub.status.busy": "2022-04-14T15:07:51.851871Z",
     "iopub.status.idle": "2022-04-14T15:08:30.013139Z",
     "shell.execute_reply": "2022-04-14T15:08:30.012761Z"
    },
    "scrolled": true
   },
   "outputs": [
    {
     "name": "stderr",
     "output_type": "stream",
     "text": [
      "100%|██████████| 254/254 [00:32<00:00,  7.73it/s]\n"
     ]
    }
   ],
   "source": [
    "model.eval()\n",
    "with torch.no_grad():\n",
    "    for _data,_target in tqdm(test_index_loader):\n",
    "        data = _data.cuda()\n",
    "        pred, _, _, _  = model(data, )\n",
    "        target = _target.cpu().detach().numpy()\n",
    "        pred_list.extend(pred.cpu().detach().numpy())\n",
    "        test_list.extend(target)"
   ]
  },
  {
   "cell_type": "code",
   "execution_count": 26,
   "metadata": {
    "ExecuteTime": {
     "end_time": "2022-10-13T13:16:29.146464Z",
     "start_time": "2022-10-13T13:16:29.117850Z"
    },
    "execution": {
     "iopub.execute_input": "2022-04-14T15:08:30.015508Z",
     "iopub.status.busy": "2022-04-14T15:08:30.015290Z",
     "iopub.status.idle": "2022-04-14T15:08:30.059744Z",
     "shell.execute_reply": "2022-04-14T15:08:30.059390Z"
    }
   },
   "outputs": [],
   "source": [
    "index_2018 = 0\n",
    "index_2019 = 0\n",
    "index_2020 = 0\n",
    "for i in range(len(X)):\n",
    "    if int(X[i].split('/')[-2][:4])==2018:\n",
    "        index_2018 = i\n",
    "    elif int(X[i].split('/')[-2][:4])==2019:\n",
    "        index_2019 = i\n",
    "    elif int(X[i].split('/')[-2][:4])==2020:\n",
    "        index_2020 = i\n",
    "index_2018 += 1\n",
    "index_2019 += 1\n",
    "index_2020 += 1"
   ]
  },
  {
   "cell_type": "code",
   "execution_count": 27,
   "metadata": {
    "ExecuteTime": {
     "end_time": "2022-10-13T13:16:29.244289Z",
     "start_time": "2022-10-13T13:16:29.148014Z"
    },
    "execution": {
     "iopub.execute_input": "2022-04-14T15:08:30.061899Z",
     "iopub.status.busy": "2022-04-14T15:08:30.061634Z",
     "iopub.status.idle": "2022-04-14T15:08:30.065943Z",
     "shell.execute_reply": "2022-04-14T15:08:30.065608Z"
    }
   },
   "outputs": [
    {
     "data": {
      "text/plain": [
       "(6650, 12257, 16206)"
      ]
     },
     "execution_count": 27,
     "metadata": {},
     "output_type": "execute_result"
    }
   ],
   "source": [
    "index_2018, index_2019, index_2020"
   ]
  },
  {
   "cell_type": "code",
   "execution_count": 28,
   "metadata": {
    "ExecuteTime": {
     "end_time": "2022-10-13T13:16:29.309191Z",
     "start_time": "2022-10-13T13:16:29.247533Z"
    },
    "execution": {
     "iopub.execute_input": "2022-04-14T15:08:30.067977Z",
     "iopub.status.busy": "2022-04-14T15:08:30.067719Z",
     "iopub.status.idle": "2022-04-14T15:08:30.071790Z",
     "shell.execute_reply": "2022-04-14T15:08:30.071451Z"
    }
   },
   "outputs": [],
   "source": [
    "def get_mae(test, pred):\n",
    "    result = []\n",
    "    for i in range(len(test)):\n",
    "        result.append(np.abs(test[i]-pred[i])[0])\n",
    "    return sum(result)/len(result)"
   ]
  },
  {
   "cell_type": "code",
   "execution_count": 29,
   "metadata": {
    "ExecuteTime": {
     "end_time": "2022-10-13T13:16:29.441858Z",
     "start_time": "2022-10-13T13:16:29.311834Z"
    },
    "execution": {
     "iopub.execute_input": "2022-04-14T15:08:30.073785Z",
     "iopub.status.busy": "2022-04-14T15:08:30.073526Z",
     "iopub.status.idle": "2022-04-14T15:08:30.177357Z",
     "shell.execute_reply": "2022-04-14T15:08:30.176940Z"
    }
   },
   "outputs": [
    {
     "name": "stdout",
     "output_type": "stream",
     "text": [
      "MAE in 2018: 8.08286797086099\n",
      "MAE in 2019: 8.469844086573726\n",
      "MAE in 2020: 7.850983751306174\n",
      "MAE in avg: 8.160250687001886\n"
     ]
    }
   ],
   "source": [
    "mae_2018 = get_mae(test_list[:index_2018], pred_list[:index_2018])\n",
    "mae_2019 = get_mae(test_list[index_2018:index_2019], pred_list[index_2018:index_2019])\n",
    "mae_2020 = get_mae(test_list[index_2019:index_2020], pred_list[index_2019:index_2020])\n",
    "maes = get_mae(test_list, pred_list)\n",
    "print('MAE in 2018:', mae_2018)\n",
    "print('MAE in 2019:', mae_2019)\n",
    "print('MAE in 2020:', mae_2020)\n",
    "print('MAE in avg:', maes)\n",
    "logging.info('testing '+model_name)\n",
    "logging.info('MAE in 2018:'+str(mae_2018))\n",
    "logging.info('MAE in 2019:'+str(mae_2019))\n",
    "logging.info('MAE in 2020:'+str(mae_2020))\n",
    "logging.info('MAE in avg:'+str(maes))"
   ]
  },
  {
   "cell_type": "code",
   "execution_count": 30,
   "metadata": {
    "ExecuteTime": {
     "end_time": "2022-10-13T13:16:29.512290Z",
     "start_time": "2022-10-13T13:16:29.443387Z"
    },
    "execution": {
     "iopub.execute_input": "2022-04-14T15:08:30.179374Z",
     "iopub.status.busy": "2022-04-14T15:08:30.179156Z",
     "iopub.status.idle": "2022-04-14T15:08:30.182401Z",
     "shell.execute_reply": "2022-04-14T15:08:30.182001Z"
    }
   },
   "outputs": [],
   "source": [
    "def get_rmse(test, pred):\n",
    "    result = []\n",
    "    for i in range(len(test)):\n",
    "        result.append(np.square(test[i]-pred[i])[0])\n",
    "    return np.sqrt(sum(result)/len(result))"
   ]
  },
  {
   "cell_type": "code",
   "execution_count": 31,
   "metadata": {
    "ExecuteTime": {
     "end_time": "2022-10-13T13:16:29.642035Z",
     "start_time": "2022-10-13T13:16:29.514809Z"
    },
    "execution": {
     "iopub.execute_input": "2022-04-14T15:08:30.184340Z",
     "iopub.status.busy": "2022-04-14T15:08:30.184068Z",
     "iopub.status.idle": "2022-04-14T15:08:30.235034Z",
     "shell.execute_reply": "2022-04-14T15:08:30.234633Z"
    }
   },
   "outputs": [
    {
     "name": "stdout",
     "output_type": "stream",
     "text": [
      "RMSE in 2018: 10.759023456973368\n",
      "RMSE in 2019: 11.540997981539844\n",
      "RMSE in 2020: 10.353836420222928\n",
      "RMSE in avg: 10.9409915441213\n"
     ]
    }
   ],
   "source": [
    "rmse_2018 = get_rmse(test_list[:index_2018], pred_list[:index_2018])\n",
    "rmse_2019 = get_rmse(test_list[index_2018:index_2019], pred_list[index_2018:index_2019])\n",
    "rmse_2020 = get_rmse(test_list[index_2019:index_2020], pred_list[index_2019:index_2020])\n",
    "rmses = get_rmse(test_list, pred_list)\n",
    "print('RMSE in 2018:', rmse_2018)\n",
    "print('RMSE in 2019:', rmse_2019)\n",
    "print('RMSE in 2020:', rmse_2020)\n",
    "print('RMSE in avg:', rmses)\n",
    "logging.info('testing '+model_name)\n",
    "logging.info('RMSE in 2018:'+str(rmse_2018))\n",
    "logging.info('RMSE in 2019:'+str(rmse_2019))\n",
    "logging.info('RMSE in 2020:'+str(rmse_2020))\n",
    "logging.info('RMSE in avg:'+str(rmses))"
   ]
  },
  {
   "cell_type": "code",
   "execution_count": null,
   "metadata": {},
   "outputs": [],
   "source": []
  }
 ],
 "metadata": {
  "kernelspec": {
   "display_name": "Python 3 (ipykernel)",
   "language": "python",
   "name": "python3"
  },
  "language_info": {
   "codemirror_mode": {
    "name": "ipython",
    "version": 3
   },
   "file_extension": ".py",
   "mimetype": "text/x-python",
   "name": "python",
   "nbconvert_exporter": "python",
   "pygments_lexer": "ipython3",
   "version": "3.9.7"
  },
  "toc": {
   "base_numbering": 1,
   "nav_menu": {},
   "number_sections": true,
   "sideBar": true,
   "skip_h1_title": false,
   "title_cell": "Table of Contents",
   "title_sidebar": "Contents",
   "toc_cell": false,
   "toc_position": {},
   "toc_section_display": true,
   "toc_window_display": false
  }
 },
 "nbformat": 4,
 "nbformat_minor": 4
}
